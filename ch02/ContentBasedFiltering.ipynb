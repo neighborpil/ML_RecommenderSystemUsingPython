{
 "cells": [
  {
   "cell_type": "code",
   "execution_count": 1,
   "id": "ae14ec97",
   "metadata": {
    "pycharm": {
     "name": "#%%\n"
    }
   },
   "outputs": [],
   "source": [
    "import pandas as pd\n",
    "import numpy as np\n",
    "import seaborn as sns\n",
    "import matplotlib.pyplot as plt\n",
    "\n",
    "%matplotlib inline"
   ]
  },
  {
   "cell_type": "code",
   "execution_count": 2,
   "id": "f512337a",
   "metadata": {
    "pycharm": {
     "name": "#%%\n"
    }
   },
   "outputs": [
    {
     "data": {
      "text/html": [
       "<div>\n",
       "<style scoped>\n",
       "    .dataframe tbody tr th:only-of-type {\n",
       "        vertical-align: middle;\n",
       "    }\n",
       "\n",
       "    .dataframe tbody tr th {\n",
       "        vertical-align: top;\n",
       "    }\n",
       "\n",
       "    .dataframe thead th {\n",
       "        text-align: right;\n",
       "    }\n",
       "</style>\n",
       "<table border=\"1\" class=\"dataframe\">\n",
       "  <thead>\n",
       "    <tr style=\"text-align: right;\">\n",
       "      <th></th>\n",
       "      <th>adult</th>\n",
       "      <th>belongs_to_collection</th>\n",
       "      <th>budget</th>\n",
       "      <th>genres</th>\n",
       "      <th>homepage</th>\n",
       "      <th>id</th>\n",
       "      <th>imdb_id</th>\n",
       "      <th>original_language</th>\n",
       "      <th>original_title</th>\n",
       "      <th>overview</th>\n",
       "      <th>...</th>\n",
       "      <th>Unnamed: 35</th>\n",
       "      <th>Unnamed: 36</th>\n",
       "      <th>Unnamed: 37</th>\n",
       "      <th>Unnamed: 38</th>\n",
       "      <th>Unnamed: 39</th>\n",
       "      <th>Unnamed: 40</th>\n",
       "      <th>Unnamed: 41</th>\n",
       "      <th>Unnamed: 42</th>\n",
       "      <th>Unnamed: 43</th>\n",
       "      <th>Unnamed: 44</th>\n",
       "    </tr>\n",
       "  </thead>\n",
       "  <tbody>\n",
       "    <tr>\n",
       "      <th>0</th>\n",
       "      <td>FALSE</td>\n",
       "      <td>{'id': 10194, 'name': 'Toy Story Collection', ...</td>\n",
       "      <td>30000000</td>\n",
       "      <td>[{'id': 16, 'name': 'Animation'}, {'id': 35, '...</td>\n",
       "      <td>http://toystory.disney.com/toy-story</td>\n",
       "      <td>862</td>\n",
       "      <td>tt0114709</td>\n",
       "      <td>en</td>\n",
       "      <td>Toy Story</td>\n",
       "      <td>Led by Woody, Andy's toys live happily in his ...</td>\n",
       "      <td>...</td>\n",
       "      <td>NaN</td>\n",
       "      <td>NaN</td>\n",
       "      <td>NaN</td>\n",
       "      <td>NaN</td>\n",
       "      <td>NaN</td>\n",
       "      <td>NaN</td>\n",
       "      <td>NaN</td>\n",
       "      <td>NaN</td>\n",
       "      <td>NaN</td>\n",
       "      <td>NaN</td>\n",
       "    </tr>\n",
       "    <tr>\n",
       "      <th>1</th>\n",
       "      <td>FALSE</td>\n",
       "      <td>NaN</td>\n",
       "      <td>65000000</td>\n",
       "      <td>[{'id': 12, 'name': 'Adventure'}, {'id': 14, '...</td>\n",
       "      <td>NaN</td>\n",
       "      <td>8844</td>\n",
       "      <td>tt0113497</td>\n",
       "      <td>en</td>\n",
       "      <td>Jumanji</td>\n",
       "      <td>When siblings Judy and Peter discover an encha...</td>\n",
       "      <td>...</td>\n",
       "      <td>NaN</td>\n",
       "      <td>NaN</td>\n",
       "      <td>NaN</td>\n",
       "      <td>NaN</td>\n",
       "      <td>NaN</td>\n",
       "      <td>NaN</td>\n",
       "      <td>NaN</td>\n",
       "      <td>NaN</td>\n",
       "      <td>NaN</td>\n",
       "      <td>NaN</td>\n",
       "    </tr>\n",
       "    <tr>\n",
       "      <th>2</th>\n",
       "      <td>FALSE</td>\n",
       "      <td>{'id': 119050, 'name': 'Grumpy Old Men Collect...</td>\n",
       "      <td>0</td>\n",
       "      <td>[{'id': 10749, 'name': 'Romance'}, {'id': 35, ...</td>\n",
       "      <td>NaN</td>\n",
       "      <td>15602</td>\n",
       "      <td>tt0113228</td>\n",
       "      <td>en</td>\n",
       "      <td>Grumpier Old Men</td>\n",
       "      <td>A family wedding reignites the ancient feud be...</td>\n",
       "      <td>...</td>\n",
       "      <td>NaN</td>\n",
       "      <td>NaN</td>\n",
       "      <td>NaN</td>\n",
       "      <td>NaN</td>\n",
       "      <td>NaN</td>\n",
       "      <td>NaN</td>\n",
       "      <td>NaN</td>\n",
       "      <td>NaN</td>\n",
       "      <td>NaN</td>\n",
       "      <td>NaN</td>\n",
       "    </tr>\n",
       "    <tr>\n",
       "      <th>3</th>\n",
       "      <td>FALSE</td>\n",
       "      <td>NaN</td>\n",
       "      <td>16000000</td>\n",
       "      <td>[{'id': 35, 'name': 'Comedy'}, {'id': 18, 'nam...</td>\n",
       "      <td>NaN</td>\n",
       "      <td>31357</td>\n",
       "      <td>tt0114885</td>\n",
       "      <td>en</td>\n",
       "      <td>Waiting to Exhale</td>\n",
       "      <td>Cheated on, mistreated and stepped on, the wom...</td>\n",
       "      <td>...</td>\n",
       "      <td>NaN</td>\n",
       "      <td>NaN</td>\n",
       "      <td>NaN</td>\n",
       "      <td>NaN</td>\n",
       "      <td>NaN</td>\n",
       "      <td>NaN</td>\n",
       "      <td>NaN</td>\n",
       "      <td>NaN</td>\n",
       "      <td>NaN</td>\n",
       "      <td>NaN</td>\n",
       "    </tr>\n",
       "    <tr>\n",
       "      <th>4</th>\n",
       "      <td>FALSE</td>\n",
       "      <td>{'id': 96871, 'name': 'Father of the Bride Col...</td>\n",
       "      <td>0</td>\n",
       "      <td>[{'id': 35, 'name': 'Comedy'}]</td>\n",
       "      <td>NaN</td>\n",
       "      <td>11862</td>\n",
       "      <td>tt0113041</td>\n",
       "      <td>en</td>\n",
       "      <td>Father of the Bride Part II</td>\n",
       "      <td>Just when George Banks has recovered from his ...</td>\n",
       "      <td>...</td>\n",
       "      <td>NaN</td>\n",
       "      <td>NaN</td>\n",
       "      <td>NaN</td>\n",
       "      <td>NaN</td>\n",
       "      <td>NaN</td>\n",
       "      <td>NaN</td>\n",
       "      <td>NaN</td>\n",
       "      <td>NaN</td>\n",
       "      <td>NaN</td>\n",
       "      <td>NaN</td>\n",
       "    </tr>\n",
       "  </tbody>\n",
       "</table>\n",
       "<p>5 rows × 45 columns</p>\n",
       "</div>"
      ],
      "text/plain": [
       "   adult                              belongs_to_collection    budget  \\\n",
       "0  FALSE  {'id': 10194, 'name': 'Toy Story Collection', ...  30000000   \n",
       "1  FALSE                                                NaN  65000000   \n",
       "2  FALSE  {'id': 119050, 'name': 'Grumpy Old Men Collect...         0   \n",
       "3  FALSE                                                NaN  16000000   \n",
       "4  FALSE  {'id': 96871, 'name': 'Father of the Bride Col...         0   \n",
       "\n",
       "                                              genres  \\\n",
       "0  [{'id': 16, 'name': 'Animation'}, {'id': 35, '...   \n",
       "1  [{'id': 12, 'name': 'Adventure'}, {'id': 14, '...   \n",
       "2  [{'id': 10749, 'name': 'Romance'}, {'id': 35, ...   \n",
       "3  [{'id': 35, 'name': 'Comedy'}, {'id': 18, 'nam...   \n",
       "4                     [{'id': 35, 'name': 'Comedy'}]   \n",
       "\n",
       "                               homepage     id    imdb_id original_language  \\\n",
       "0  http://toystory.disney.com/toy-story    862  tt0114709                en   \n",
       "1                                   NaN   8844  tt0113497                en   \n",
       "2                                   NaN  15602  tt0113228                en   \n",
       "3                                   NaN  31357  tt0114885                en   \n",
       "4                                   NaN  11862  tt0113041                en   \n",
       "\n",
       "                original_title  \\\n",
       "0                    Toy Story   \n",
       "1                      Jumanji   \n",
       "2             Grumpier Old Men   \n",
       "3            Waiting to Exhale   \n",
       "4  Father of the Bride Part II   \n",
       "\n",
       "                                            overview  ... Unnamed: 35  \\\n",
       "0  Led by Woody, Andy's toys live happily in his ...  ...         NaN   \n",
       "1  When siblings Judy and Peter discover an encha...  ...         NaN   \n",
       "2  A family wedding reignites the ancient feud be...  ...         NaN   \n",
       "3  Cheated on, mistreated and stepped on, the wom...  ...         NaN   \n",
       "4  Just when George Banks has recovered from his ...  ...         NaN   \n",
       "\n",
       "  Unnamed: 36 Unnamed: 37 Unnamed: 38 Unnamed: 39 Unnamed: 40 Unnamed: 41  \\\n",
       "0         NaN         NaN         NaN         NaN         NaN         NaN   \n",
       "1         NaN         NaN         NaN         NaN         NaN         NaN   \n",
       "2         NaN         NaN         NaN         NaN         NaN         NaN   \n",
       "3         NaN         NaN         NaN         NaN         NaN         NaN   \n",
       "4         NaN         NaN         NaN         NaN         NaN         NaN   \n",
       "\n",
       "  Unnamed: 42 Unnamed: 43 Unnamed: 44  \n",
       "0         NaN         NaN         NaN  \n",
       "1         NaN         NaN         NaN  \n",
       "2         NaN         NaN         NaN  \n",
       "3         NaN         NaN         NaN  \n",
       "4         NaN         NaN         NaN  \n",
       "\n",
       "[5 rows x 45 columns]"
      ]
     },
     "execution_count": 2,
     "metadata": {},
     "output_type": "execute_result"
    }
   ],
   "source": [
    "movies = pd.read_csv('./movies_metadata.csv', encoding='latin-1', low_memory=False)\n",
    "movies.head()"
   ]
  },
  {
   "cell_type": "code",
   "execution_count": 3,
   "id": "2c56e524",
   "metadata": {
    "pycharm": {
     "name": "#%%\n"
    }
   },
   "outputs": [
    {
     "data": {
      "text/html": [
       "<div>\n",
       "<style scoped>\n",
       "    .dataframe tbody tr th:only-of-type {\n",
       "        vertical-align: middle;\n",
       "    }\n",
       "\n",
       "    .dataframe tbody tr th {\n",
       "        vertical-align: top;\n",
       "    }\n",
       "\n",
       "    .dataframe thead th {\n",
       "        text-align: right;\n",
       "    }\n",
       "</style>\n",
       "<table border=\"1\" class=\"dataframe\">\n",
       "  <thead>\n",
       "    <tr style=\"text-align: right;\">\n",
       "      <th></th>\n",
       "      <th>id</th>\n",
       "      <th>title</th>\n",
       "      <th>overview</th>\n",
       "    </tr>\n",
       "  </thead>\n",
       "  <tbody>\n",
       "    <tr>\n",
       "      <th>0</th>\n",
       "      <td>862</td>\n",
       "      <td>Toy Story</td>\n",
       "      <td>Led by Woody, Andy's toys live happily in his ...</td>\n",
       "    </tr>\n",
       "    <tr>\n",
       "      <th>1</th>\n",
       "      <td>8844</td>\n",
       "      <td>Jumanji</td>\n",
       "      <td>When siblings Judy and Peter discover an encha...</td>\n",
       "    </tr>\n",
       "    <tr>\n",
       "      <th>2</th>\n",
       "      <td>15602</td>\n",
       "      <td>Grumpier Old Men</td>\n",
       "      <td>A family wedding reignites the ancient feud be...</td>\n",
       "    </tr>\n",
       "    <tr>\n",
       "      <th>3</th>\n",
       "      <td>31357</td>\n",
       "      <td>Waiting to Exhale</td>\n",
       "      <td>Cheated on, mistreated and stepped on, the wom...</td>\n",
       "    </tr>\n",
       "    <tr>\n",
       "      <th>4</th>\n",
       "      <td>11862</td>\n",
       "      <td>Father of the Bride Part II</td>\n",
       "      <td>Just when George Banks has recovered from his ...</td>\n",
       "    </tr>\n",
       "    <tr>\n",
       "      <th>5</th>\n",
       "      <td>949</td>\n",
       "      <td>Heat</td>\n",
       "      <td>Obsessive master thief, Neil McCauley leads a ...</td>\n",
       "    </tr>\n",
       "    <tr>\n",
       "      <th>6</th>\n",
       "      <td>45325</td>\n",
       "      <td>Tom and Huck</td>\n",
       "      <td>A mischievous young boy, Tom Sawyer, witnesses...</td>\n",
       "    </tr>\n",
       "    <tr>\n",
       "      <th>7</th>\n",
       "      <td>9091</td>\n",
       "      <td>Sudden Death</td>\n",
       "      <td>International action superstar Jean Claude Van...</td>\n",
       "    </tr>\n",
       "    <tr>\n",
       "      <th>8</th>\n",
       "      <td>710</td>\n",
       "      <td>GoldenEye</td>\n",
       "      <td>James Bond must unmask the mysterious head of ...</td>\n",
       "    </tr>\n",
       "    <tr>\n",
       "      <th>9</th>\n",
       "      <td>9087</td>\n",
       "      <td>The American President</td>\n",
       "      <td>Widowed U.S. president Andrew Shepherd, one of...</td>\n",
       "    </tr>\n",
       "  </tbody>\n",
       "</table>\n",
       "</div>"
      ],
      "text/plain": [
       "      id                        title  \\\n",
       "0    862                    Toy Story   \n",
       "1   8844                      Jumanji   \n",
       "2  15602             Grumpier Old Men   \n",
       "3  31357            Waiting to Exhale   \n",
       "4  11862  Father of the Bride Part II   \n",
       "5    949                         Heat   \n",
       "6  45325                 Tom and Huck   \n",
       "7   9091                 Sudden Death   \n",
       "8    710                    GoldenEye   \n",
       "9   9087       The American President   \n",
       "\n",
       "                                            overview  \n",
       "0  Led by Woody, Andy's toys live happily in his ...  \n",
       "1  When siblings Judy and Peter discover an encha...  \n",
       "2  A family wedding reignites the ancient feud be...  \n",
       "3  Cheated on, mistreated and stepped on, the wom...  \n",
       "4  Just when George Banks has recovered from his ...  \n",
       "5  Obsessive master thief, Neil McCauley leads a ...  \n",
       "6  A mischievous young boy, Tom Sawyer, witnesses...  \n",
       "7  International action superstar Jean Claude Van...  \n",
       "8  James Bond must unmask the mysterious head of ...  \n",
       "9  Widowed U.S. president Andrew Shepherd, one of...  "
      ]
     },
     "execution_count": 3,
     "metadata": {},
     "output_type": "execute_result"
    }
   ],
   "source": [
    "movies = movies[['id', 'title', 'overview']]\n",
    "movies.head(10)"
   ]
  },
  {
   "cell_type": "code",
   "execution_count": 4,
   "id": "7b1d635f",
   "metadata": {
    "pycharm": {
     "name": "#%%\n"
    }
   },
   "outputs": [
    {
     "data": {
      "text/plain": [
       "45442"
      ]
     },
     "execution_count": 4,
     "metadata": {},
     "output_type": "execute_result"
    }
   ],
   "source": [
    "len(movies)"
   ]
  },
  {
   "cell_type": "code",
   "execution_count": 5,
   "id": "d7618d8a",
   "metadata": {
    "pycharm": {
     "name": "#%%\n"
    }
   },
   "outputs": [],
   "source": [
    "movies = movies.drop_duplicates()"
   ]
  },
  {
   "cell_type": "code",
   "execution_count": 6,
   "id": "1c7e296e",
   "metadata": {
    "pycharm": {
     "name": "#%%\n"
    }
   },
   "outputs": [
    {
     "data": {
      "text/plain": [
       "45412"
      ]
     },
     "execution_count": 6,
     "metadata": {},
     "output_type": "execute_result"
    }
   ],
   "source": [
    "len(movies)"
   ]
  },
  {
   "cell_type": "code",
   "execution_count": 7,
   "id": "da9f0994",
   "metadata": {
    "pycharm": {
     "name": "#%%\n"
    }
   },
   "outputs": [
    {
     "data": {
      "text/plain": [
       "<AxesSubplot: >"
      ]
     },
     "execution_count": 7,
     "metadata": {},
     "output_type": "execute_result"
    },
    {
     "data": {
      "image/png": "[encoded data removed]",
      "text/plain": [
       "<Figure size 640x480 with 1 Axes>"
      ]
     },
     "metadata": {},
     "output_type": "display_data"
    }
   ],
   "source": [
    "sns.heatmap(movies.isnull(), yticklabels=False, cbar=False)"
   ]
  },
  {
   "cell_type": "code",
   "execution_count": 8,
   "id": "b5bdc80b",
   "metadata": {
    "pycharm": {
     "name": "#%%\n"
    }
   },
   "outputs": [],
   "source": [
    "# 전처리\n",
    "movies = movies.dropna()"
   ]
  },
  {
   "cell_type": "code",
   "execution_count": 9,
   "id": "14347019",
   "metadata": {
    "pycharm": {
     "name": "#%%\n"
    }
   },
   "outputs": [
    {
     "data": {
      "text/plain": [
       "<AxesSubplot: >"
      ]
     },
     "execution_count": 9,
     "metadata": {},
     "output_type": "execute_result"
    },
    {
     "data": {
      "image/png": "[encoded data removed]",
      "text/plain": [
       "<Figure size 640x480 with 1 Axes>"
      ]
     },
     "metadata": {},
     "output_type": "display_data"
    }
   ],
   "source": [
    "sns.heatmap(movies.isnull(), yticklabels=False, cbar=False)"
   ]
  },
  {
   "cell_type": "code",
   "execution_count": 10,
   "id": "936570d2",
   "metadata": {
    "pycharm": {
     "name": "#%%\n"
    }
   },
   "outputs": [],
   "source": [
    "movies['overview'] = movies['overview'].fillna(' ')"
   ]
  },
  {
   "cell_type": "code",
   "execution_count": 11,
   "id": "8d73c062",
   "metadata": {
    "pycharm": {
     "name": "#%%\n"
    }
   },
   "outputs": [
    {
     "data": {
      "text/plain": [
       "44300"
      ]
     },
     "execution_count": 11,
     "metadata": {},
     "output_type": "execute_result"
    }
   ],
   "source": [
    "len(movies)"
   ]
  },
  {
   "cell_type": "code",
   "execution_count": 12,
   "id": "07a6133c",
   "metadata": {
    "pycharm": {
     "name": "#%%\n"
    }
   },
   "outputs": [],
   "source": [
    "from sklearn.feature_extraction.text import TfidfVectorizer"
   ]
  },
  {
   "cell_type": "code",
   "execution_count": 13,
   "id": "708f2c8b",
   "metadata": {
    "pycharm": {
     "name": "#%%\n"
    }
   },
   "outputs": [],
   "source": [
    "# 불용어(stopword)를 engllish로 지정하고 tf-idf 계산\n",
    "# stopword: 언어 분석할때에 의미가 없는 단어들을 말한다. a, about, above, after 등\n",
    "tfidf = TfidfVectorizer(stop_words='english')\n",
    "tfidf_matrix = tfidf.fit_transform(movies['overview'])"
   ]
  },
  {
   "cell_type": "code",
   "execution_count": 14,
   "id": "b63ac59a",
   "metadata": {
    "pycharm": {
     "name": "#%%\n"
    }
   },
   "outputs": [
    {
     "name": "stdout",
     "output_type": "stream",
     "text": [
      "  (0, 17940)\t0.1350601789607578\n",
      "  (0, 4665)\t0.1473751216178942\n",
      "  (0, 37874)\t0.10190384773780256\n",
      "  (0, 22032)\t0.105020753280208\n",
      "  (0, 19823)\t0.13328594566298135\n",
      "  (0, 48337)\t0.1036328476357594\n",
      "  (0, 59212)\t0.13016028931399973\n",
      "  (0, 12690)\t0.1255138710443882\n",
      "  (0, 50874)\t0.1343961000897376\n",
      "  (0, 29290)\t0.10088923595210991\n",
      "  (0, 50682)\t0.09214233798904524\n",
      "  (0, 39309)\t0.11914179538643202\n",
      "  (0, 2174)\t0.14093120346072274\n",
      "  (0, 58275)\t0.1135543148253892\n",
      "  (0, 38551)\t0.20588051562617954\n",
      "  (0, 10102)\t0.5042587242502197\n",
      "  (0, 9325)\t0.10639933627188589\n",
      "  (0, 7735)\t0.12411884182939677\n",
      "  (0, 56624)\t0.11099572629201628\n",
      "  (0, 28783)\t0.13313240798699374\n",
      "  (0, 38876)\t0.08715237256152102\n",
      "  (0, 67444)\t0.14869240022136296\n",
      "  (0, 3462)\t0.41103879727792\n",
      "  (0, 72989)\t0.4797157762510062\n",
      "  (0, 37933)\t0.1073488898353332\n",
      "  :\t:\n",
      "  (44298, 27061)\t0.07353004188572901\n",
      "  (44298, 19100)\t0.09289403994718433\n",
      "  (44298, 18295)\t0.07461116992207442\n",
      "  (44298, 38876)\t0.06832973825903706\n",
      "  (44299, 16698)\t0.32341459401640876\n",
      "  (44299, 7409)\t0.29113041579762194\n",
      "  (44299, 43090)\t0.23688835201251182\n",
      "  (44299, 16013)\t0.24193839958506413\n",
      "  (44299, 68730)\t0.2276711089193892\n",
      "  (44299, 34151)\t0.24193839958506413\n",
      "  (44299, 4720)\t0.3114994644054581\n",
      "  (44299, 4196)\t0.22203213731983196\n",
      "  (44299, 22430)\t0.2866004937574055\n",
      "  (44299, 624)\t0.1944598403939218\n",
      "  (44299, 23153)\t0.188232864528593\n",
      "  (44299, 932)\t0.19693393658382088\n",
      "  (44299, 54884)\t0.17747225655632975\n",
      "  (44299, 11509)\t0.1495195774401249\n",
      "  (44299, 25918)\t0.17455068106895305\n",
      "  (44299, 17452)\t0.20261111690728154\n",
      "  (44299, 18154)\t0.14006447296584698\n",
      "  (44299, 30426)\t0.23325579207672975\n",
      "  (44299, 42312)\t0.12686842590709532\n",
      "  (44299, 72929)\t0.13413884299821663\n",
      "  (44299, 73532)\t0.10789519743661632\n"
     ]
    }
   ],
   "source": [
    "print(tfidf_matrix)"
   ]
  },
  {
   "cell_type": "code",
   "execution_count": 15,
   "id": "598a94ea",
   "metadata": {
    "pycharm": {
     "name": "#%%\n"
    }
   },
   "outputs": [],
   "source": [
    "# cosine 유사도 계산\n",
    "from sklearn.metrics.pairwise import cosine_similarity"
   ]
  },
  {
   "cell_type": "code",
   "execution_count": 16,
   "id": "aa7fcc34",
   "metadata": {
    "pycharm": {
     "name": "#%%\n"
    }
   },
   "outputs": [
    {
     "name": "stdout",
     "output_type": "stream",
     "text": [
      "[[1.         0.01498114 0.         ... 0.         0.0059551  0.        ]\n",
      " [0.01498114 1.         0.04696776 ... 0.         0.02201769 0.00935609]\n",
      " [0.         0.04696776 1.         ... 0.         0.01407684 0.        ]\n",
      " ...\n",
      " [0.         0.         0.         ... 1.         0.         0.        ]\n",
      " [0.0059551  0.02201769 0.01407684 ... 0.         1.         0.        ]\n",
      " [0.         0.00935609 0.         ... 0.         0.         1.        ]]\n"
     ]
    }
   ],
   "source": [
    "cosine_sim = cosine_similarity(tfidf_matrix, tfidf_matrix)\n",
    "print(cosine_sim)"
   ]
  },
  {
   "cell_type": "code",
   "execution_count": 17,
   "id": "34e04072",
   "metadata": {
    "pycharm": {
     "name": "#%%\n"
    }
   },
   "outputs": [
    {
     "data": {
      "text/html": [
       "<div>\n",
       "<style scoped>\n",
       "    .dataframe tbody tr th:only-of-type {\n",
       "        vertical-align: middle;\n",
       "    }\n",
       "\n",
       "    .dataframe tbody tr th {\n",
       "        vertical-align: top;\n",
       "    }\n",
       "\n",
       "    .dataframe thead th {\n",
       "        text-align: right;\n",
       "    }\n",
       "</style>\n",
       "<table border=\"1\" class=\"dataframe\">\n",
       "  <thead>\n",
       "    <tr style=\"text-align: right;\">\n",
       "      <th></th>\n",
       "      <th>0</th>\n",
       "      <th>1</th>\n",
       "      <th>2</th>\n",
       "      <th>3</th>\n",
       "      <th>4</th>\n",
       "      <th>5</th>\n",
       "      <th>6</th>\n",
       "      <th>7</th>\n",
       "      <th>8</th>\n",
       "      <th>9</th>\n",
       "      <th>...</th>\n",
       "      <th>45432</th>\n",
       "      <th>45433</th>\n",
       "      <th>45434</th>\n",
       "      <th>45435</th>\n",
       "      <th>45436</th>\n",
       "      <th>45437</th>\n",
       "      <th>45438</th>\n",
       "      <th>45439</th>\n",
       "      <th>45440</th>\n",
       "      <th>45441</th>\n",
       "    </tr>\n",
       "  </thead>\n",
       "  <tbody>\n",
       "    <tr>\n",
       "      <th>0</th>\n",
       "      <td>1.000000</td>\n",
       "      <td>0.014981</td>\n",
       "      <td>0.000000</td>\n",
       "      <td>0.0</td>\n",
       "      <td>0.00000</td>\n",
       "      <td>0.000000</td>\n",
       "      <td>0.000000</td>\n",
       "      <td>0.000000</td>\n",
       "      <td>0.0</td>\n",
       "      <td>0.000000</td>\n",
       "      <td>...</td>\n",
       "      <td>0.0</td>\n",
       "      <td>0.0</td>\n",
       "      <td>0.0</td>\n",
       "      <td>0.000000</td>\n",
       "      <td>0.0</td>\n",
       "      <td>0.000000</td>\n",
       "      <td>0.000000</td>\n",
       "      <td>0.0</td>\n",
       "      <td>0.005955</td>\n",
       "      <td>0.000000</td>\n",
       "    </tr>\n",
       "    <tr>\n",
       "      <th>1</th>\n",
       "      <td>0.014981</td>\n",
       "      <td>1.000000</td>\n",
       "      <td>0.046968</td>\n",
       "      <td>0.0</td>\n",
       "      <td>0.00000</td>\n",
       "      <td>0.050222</td>\n",
       "      <td>0.000000</td>\n",
       "      <td>0.102622</td>\n",
       "      <td>0.0</td>\n",
       "      <td>0.007219</td>\n",
       "      <td>...</td>\n",
       "      <td>0.0</td>\n",
       "      <td>0.0</td>\n",
       "      <td>0.0</td>\n",
       "      <td>0.011276</td>\n",
       "      <td>0.0</td>\n",
       "      <td>0.000000</td>\n",
       "      <td>0.066866</td>\n",
       "      <td>0.0</td>\n",
       "      <td>0.022018</td>\n",
       "      <td>0.009356</td>\n",
       "    </tr>\n",
       "    <tr>\n",
       "      <th>2</th>\n",
       "      <td>0.000000</td>\n",
       "      <td>0.046968</td>\n",
       "      <td>1.000000</td>\n",
       "      <td>0.0</td>\n",
       "      <td>0.02507</td>\n",
       "      <td>0.000000</td>\n",
       "      <td>0.006414</td>\n",
       "      <td>0.000000</td>\n",
       "      <td>0.0</td>\n",
       "      <td>0.000000</td>\n",
       "      <td>...</td>\n",
       "      <td>0.0</td>\n",
       "      <td>0.0</td>\n",
       "      <td>0.0</td>\n",
       "      <td>0.000000</td>\n",
       "      <td>0.0</td>\n",
       "      <td>0.000000</td>\n",
       "      <td>0.000000</td>\n",
       "      <td>0.0</td>\n",
       "      <td>0.014077</td>\n",
       "      <td>0.000000</td>\n",
       "    </tr>\n",
       "    <tr>\n",
       "      <th>3</th>\n",
       "      <td>0.000000</td>\n",
       "      <td>0.000000</td>\n",
       "      <td>0.000000</td>\n",
       "      <td>1.0</td>\n",
       "      <td>0.00000</td>\n",
       "      <td>0.007214</td>\n",
       "      <td>0.008982</td>\n",
       "      <td>0.000000</td>\n",
       "      <td>0.0</td>\n",
       "      <td>0.000000</td>\n",
       "      <td>...</td>\n",
       "      <td>0.0</td>\n",
       "      <td>0.0</td>\n",
       "      <td>0.0</td>\n",
       "      <td>0.021457</td>\n",
       "      <td>0.0</td>\n",
       "      <td>0.026478</td>\n",
       "      <td>0.000000</td>\n",
       "      <td>0.0</td>\n",
       "      <td>0.009531</td>\n",
       "      <td>0.016436</td>\n",
       "    </tr>\n",
       "    <tr>\n",
       "      <th>4</th>\n",
       "      <td>0.000000</td>\n",
       "      <td>0.000000</td>\n",
       "      <td>0.025070</td>\n",
       "      <td>0.0</td>\n",
       "      <td>1.00000</td>\n",
       "      <td>0.000000</td>\n",
       "      <td>0.000000</td>\n",
       "      <td>0.032820</td>\n",
       "      <td>0.0</td>\n",
       "      <td>0.000000</td>\n",
       "      <td>...</td>\n",
       "      <td>0.0</td>\n",
       "      <td>0.0</td>\n",
       "      <td>0.0</td>\n",
       "      <td>0.000000</td>\n",
       "      <td>0.0</td>\n",
       "      <td>0.000000</td>\n",
       "      <td>0.000000</td>\n",
       "      <td>0.0</td>\n",
       "      <td>0.007014</td>\n",
       "      <td>0.000000</td>\n",
       "    </tr>\n",
       "  </tbody>\n",
       "</table>\n",
       "<p>5 rows × 44300 columns</p>\n",
       "</div>"
      ],
      "text/plain": [
       "      0         1         2      3        4         5         6         7      \\\n",
       "0  1.000000  0.014981  0.000000    0.0  0.00000  0.000000  0.000000  0.000000   \n",
       "1  0.014981  1.000000  0.046968    0.0  0.00000  0.050222  0.000000  0.102622   \n",
       "2  0.000000  0.046968  1.000000    0.0  0.02507  0.000000  0.006414  0.000000   \n",
       "3  0.000000  0.000000  0.000000    1.0  0.00000  0.007214  0.008982  0.000000   \n",
       "4  0.000000  0.000000  0.025070    0.0  1.00000  0.000000  0.000000  0.032820   \n",
       "\n",
       "   8         9      ...  45432  45433  45434     45435  45436     45437  \\\n",
       "0    0.0  0.000000  ...    0.0    0.0    0.0  0.000000    0.0  0.000000   \n",
       "1    0.0  0.007219  ...    0.0    0.0    0.0  0.011276    0.0  0.000000   \n",
       "2    0.0  0.000000  ...    0.0    0.0    0.0  0.000000    0.0  0.000000   \n",
       "3    0.0  0.000000  ...    0.0    0.0    0.0  0.021457    0.0  0.026478   \n",
       "4    0.0  0.000000  ...    0.0    0.0    0.0  0.000000    0.0  0.000000   \n",
       "\n",
       "      45438  45439     45440     45441  \n",
       "0  0.000000    0.0  0.005955  0.000000  \n",
       "1  0.066866    0.0  0.022018  0.009356  \n",
       "2  0.000000    0.0  0.014077  0.000000  \n",
       "3  0.000000    0.0  0.009531  0.016436  \n",
       "4  0.000000    0.0  0.007014  0.000000  \n",
       "\n",
       "[5 rows x 44300 columns]"
      ]
     },
     "execution_count": 17,
     "metadata": {},
     "output_type": "execute_result"
    }
   ],
   "source": [
    "cosine_sim = pd.DataFrame(cosine_sim, index=movies.index, columns=movies.index)\n",
    "cosine_sim.head()"
   ]
  },
  {
   "cell_type": "code",
   "execution_count": 18,
   "id": "a1f6392a",
   "metadata": {
    "pycharm": {
     "name": "#%%\n"
    }
   },
   "outputs": [
    {
     "data": {
      "text/plain": [
       "44300"
      ]
     },
     "execution_count": 18,
     "metadata": {},
     "output_type": "execute_result"
    }
   ],
   "source": [
    "len(cosine_sim)"
   ]
  },
  {
   "cell_type": "markdown",
   "id": "cefc1360",
   "metadata": {
    "pycharm": {
     "name": "#%% md\n"
    }
   },
   "source": [
    "??"
   ]
  },
  {
   "cell_type": "code",
   "execution_count": 22,
   "id": "fed77b76",
   "metadata": {
    "pycharm": {
     "name": "#%%\n"
    }
   },
   "outputs": [
    {
     "data": {
      "text/plain": [
       "Int64Index([    0,     1,     2,     3,     4,     5,     6,     7,     8,\n",
       "                9,\n",
       "            ...\n",
       "            45432, 45433, 45434, 45435, 45436, 45437, 45438, 45439, 45440,\n",
       "            45441],\n",
       "           dtype='int64', length=44300)"
      ]
     },
     "execution_count": 22,
     "metadata": {},
     "output_type": "execute_result"
    }
   ],
   "source": [
    "movies.index"
   ]
  },
  {
   "cell_type": "code",
   "execution_count": 23,
   "id": "b5c109f4",
   "metadata": {
    "pycharm": {
     "name": "#%%\n"
    }
   },
   "outputs": [
    {
     "data": {
      "text/html": [
       "<div>\n",
       "<style scoped>\n",
       "    .dataframe tbody tr th:only-of-type {\n",
       "        vertical-align: middle;\n",
       "    }\n",
       "\n",
       "    .dataframe tbody tr th {\n",
       "        vertical-align: top;\n",
       "    }\n",
       "\n",
       "    .dataframe thead th {\n",
       "        text-align: right;\n",
       "    }\n",
       "</style>\n",
       "<table border=\"1\" class=\"dataframe\">\n",
       "  <thead>\n",
       "    <tr style=\"text-align: right;\">\n",
       "      <th></th>\n",
       "      <th>id</th>\n",
       "      <th>title</th>\n",
       "      <th>overview</th>\n",
       "    </tr>\n",
       "  </thead>\n",
       "  <tbody>\n",
       "    <tr>\n",
       "      <th>0</th>\n",
       "      <td>862</td>\n",
       "      <td>Toy Story</td>\n",
       "      <td>Led by Woody, Andy's toys live happily in his ...</td>\n",
       "    </tr>\n",
       "    <tr>\n",
       "      <th>1</th>\n",
       "      <td>8844</td>\n",
       "      <td>Jumanji</td>\n",
       "      <td>When siblings Judy and Peter discover an encha...</td>\n",
       "    </tr>\n",
       "    <tr>\n",
       "      <th>2</th>\n",
       "      <td>15602</td>\n",
       "      <td>Grumpier Old Men</td>\n",
       "      <td>A family wedding reignites the ancient feud be...</td>\n",
       "    </tr>\n",
       "    <tr>\n",
       "      <th>3</th>\n",
       "      <td>31357</td>\n",
       "      <td>Waiting to Exhale</td>\n",
       "      <td>Cheated on, mistreated and stepped on, the wom...</td>\n",
       "    </tr>\n",
       "    <tr>\n",
       "      <th>4</th>\n",
       "      <td>11862</td>\n",
       "      <td>Father of the Bride Part II</td>\n",
       "      <td>Just when George Banks has recovered from his ...</td>\n",
       "    </tr>\n",
       "    <tr>\n",
       "      <th>...</th>\n",
       "      <td>...</td>\n",
       "      <td>...</td>\n",
       "      <td>...</td>\n",
       "    </tr>\n",
       "    <tr>\n",
       "      <th>45437</th>\n",
       "      <td>439050</td>\n",
       "      <td>Subdue</td>\n",
       "      <td>Rising and falling between a man and woman.</td>\n",
       "    </tr>\n",
       "    <tr>\n",
       "      <th>45438</th>\n",
       "      <td>111109</td>\n",
       "      <td>Century of Birthing</td>\n",
       "      <td>An artist struggles to finish his work while a...</td>\n",
       "    </tr>\n",
       "    <tr>\n",
       "      <th>45439</th>\n",
       "      <td>67758</td>\n",
       "      <td>Betrayal</td>\n",
       "      <td>When one of her hits goes wrong, a professiona...</td>\n",
       "    </tr>\n",
       "    <tr>\n",
       "      <th>45440</th>\n",
       "      <td>227506</td>\n",
       "      <td>Satan Triumphant</td>\n",
       "      <td>In a small town live two brothers, one a minis...</td>\n",
       "    </tr>\n",
       "    <tr>\n",
       "      <th>45441</th>\n",
       "      <td>461257</td>\n",
       "      <td>Queerama</td>\n",
       "      <td>50 years after decriminalisation of homosexual...</td>\n",
       "    </tr>\n",
       "  </tbody>\n",
       "</table>\n",
       "<p>44300 rows × 3 columns</p>\n",
       "</div>"
      ],
      "text/plain": [
       "           id                        title  \\\n",
       "0         862                    Toy Story   \n",
       "1        8844                      Jumanji   \n",
       "2       15602             Grumpier Old Men   \n",
       "3       31357            Waiting to Exhale   \n",
       "4       11862  Father of the Bride Part II   \n",
       "...       ...                          ...   \n",
       "45437  439050                       Subdue   \n",
       "45438  111109          Century of Birthing   \n",
       "45439   67758                     Betrayal   \n",
       "45440  227506             Satan Triumphant   \n",
       "45441  461257                     Queerama   \n",
       "\n",
       "                                                overview  \n",
       "0      Led by Woody, Andy's toys live happily in his ...  \n",
       "1      When siblings Judy and Peter discover an encha...  \n",
       "2      A family wedding reignites the ancient feud be...  \n",
       "3      Cheated on, mistreated and stepped on, the wom...  \n",
       "4      Just when George Banks has recovered from his ...  \n",
       "...                                                  ...  \n",
       "45437        Rising and falling between a man and woman.  \n",
       "45438  An artist struggles to finish his work while a...  \n",
       "45439  When one of her hits goes wrong, a professiona...  \n",
       "45440  In a small town live two brothers, one a minis...  \n",
       "45441  50 years after decriminalisation of homosexual...  \n",
       "\n",
       "[44300 rows x 3 columns]"
      ]
     },
     "execution_count": 23,
     "metadata": {},
     "output_type": "execute_result"
    }
   ],
   "source": [
    "movies"
   ]
  },
  {
   "cell_type": "code",
   "execution_count": 26,
   "id": "26c8a728",
   "metadata": {
    "pycharm": {
     "name": "#%%\n"
    }
   },
   "outputs": [],
   "source": [
    "# index-title을 뒤집는다\n",
    "indices = pd.Series(movies.index, index=movies['title'])"
   ]
  },
  {
   "cell_type": "code",
   "execution_count": 27,
   "id": "d6153af7",
   "metadata": {
    "pycharm": {
     "name": "#%%\n"
    }
   },
   "outputs": [
    {
     "data": {
      "text/plain": [
       "title\n",
       "Toy Story                          0\n",
       "Jumanji                            1\n",
       "Grumpier Old Men                   2\n",
       "Waiting to Exhale                  3\n",
       "Father of the Bride Part II        4\n",
       "                               ...  \n",
       "Subdue                         45437\n",
       "Century of Birthing            45438\n",
       "Betrayal                       45439\n",
       "Satan Triumphant               45440\n",
       "Queerama                       45441\n",
       "Length: 44300, dtype: int64"
      ]
     },
     "execution_count": 27,
     "metadata": {},
     "output_type": "execute_result"
    }
   ],
   "source": [
    "indices"
   ]
  },
  {
   "cell_type": "code",
   "execution_count": 30,
   "id": "0f577e3d",
   "metadata": {
    "pycharm": {
     "name": "#%%\n"
    }
   },
   "outputs": [],
   "source": [
    "# 영화 제ㄱ을 받아서 추천 영화를 돌려주는 함수\n",
    "def content_recommender(title, n_of_recomm):\n",
    "    # title에서 영화 index 받아오기\n",
    "    idx = indices[title]\n",
    "    # 주어진 영화와 다른 영화의 similarity를 가져온다\n",
    "    sim_scores = cosine_sim[idx]\n",
    "    print(sim_scores)\n",
    "    # similarity를 기준으로 정렬하고 n_of_recomm만큼 가져온다(자기자신은 빼고)\n",
    "    sim_scores = sim_scores.sort_values(ascending=False)[1:n_of_recomm+1]\n",
    "    # 영화 타이틀 반환\n",
    "    return movies.loc[sim_scores.index]['title']"
   ]
  },
  {
   "cell_type": "code",
   "execution_count": 31,
   "id": "1d637da2",
   "metadata": {
    "pycharm": {
     "name": "#%%\n"
    }
   },
   "outputs": [
    {
     "name": "stdout",
     "output_type": "stream",
     "text": [
      "0        0.0\n",
      "1        0.0\n",
      "2        0.0\n",
      "3        0.0\n",
      "4        0.0\n",
      "        ... \n",
      "45437    0.0\n",
      "45438    0.0\n",
      "45439    0.0\n",
      "45440    0.0\n",
      "45441    0.0\n",
      "Name: 358, Length: 44300, dtype: float64\n",
      "34664    How the Lion Cub and the Turtle Sang a Song\n",
      "9339                               The Lion King 1Â½\n",
      "9101                  The Lion King 2: Simba's Pride\n",
      "42806                                           Prey\n",
      "25637                                 Fearless Fagan\n",
      "Name: title, dtype: object\n",
      "0        0.000000\n",
      "1        0.006038\n",
      "2        0.000000\n",
      "3        0.000000\n",
      "4        0.000000\n",
      "           ...   \n",
      "45437    0.000000\n",
      "45438    0.000000\n",
      "45439    0.000000\n",
      "45440    0.006458\n",
      "45441    0.007512\n",
      "Name: 18238, Length: 44300, dtype: float64\n",
      "12468                                      The Dark Knight\n",
      "149                                         Batman Forever\n",
      "1321                                        Batman Returns\n",
      "15497                           Batman: Under the Red Hood\n",
      "584                                                 Batman\n",
      "21179    Batman Unmasked: The Psychology of the Dark Kn...\n",
      "9216                    Batman Beyond: Return of the Joker\n",
      "18021                                     Batman: Year One\n",
      "19778              Batman: The Dark Knight Returns, Part 1\n",
      "3085                          Batman: Mask of the Phantasm\n",
      "Name: title, dtype: object\n"
     ]
    },
    {
     "name": "stderr",
     "output_type": "stream",
     "text": [
      "/var/folders/g_/jx94y_rn1h91jyckh5j6tgnh0000gn/T/ipykernel_3314/384155716.py:9: FutureWarning: The behavior of `series[i:j]` with an integer-dtype index is deprecated. In a future version, this will be treated as *label-based* indexing, consistent with e.g. `series[i]` lookups. To retain the old behavior, use `series.iloc[i:j]`. To get the future behavior, use `series.loc[i:j]`.\n",
      "  sim_scores = sim_scores.sort_values(ascending=False)[1:n_of_recomm+1]\n",
      "/var/folders/g_/jx94y_rn1h91jyckh5j6tgnh0000gn/T/ipykernel_3314/384155716.py:9: FutureWarning: The behavior of `series[i:j]` with an integer-dtype index is deprecated. In a future version, this will be treated as *label-based* indexing, consistent with e.g. `series[i]` lookups. To retain the old behavior, use `series.iloc[i:j]`. To get the future behavior, use `series.loc[i:j]`.\n",
      "  sim_scores = sim_scores.sort_values(ascending=False)[1:n_of_recomm+1]\n"
     ]
    }
   ],
   "source": [
    "# 추천받기\n",
    "print(content_recommender('The Lion King', 5))\n",
    "print(content_recommender('The Dark Knight Rises', 10))"
   ]
  },
  {
   "cell_type": "code",
   "execution_count": null,
   "id": "880ad511",
   "metadata": {
    "pycharm": {
     "name": "#%%\n"
    }
   },
   "outputs": [],
   "source": []
  }
 ],
 "metadata": {
  "kernelspec": {
   "display_name": "Python 3 (ipykernel)",
   "language": "python",
   "name": "python3"
  },
  "language_info": {
   "codemirror_mode": {
    "name": "ipython",
    "version": 3
   },
   "file_extension": ".py",
   "mimetype": "text/x-python",
   "name": "python",
   "nbconvert_exporter": "python",
   "pygments_lexer": "ipython3",
   "version": "3.10.6"
  }
 },
 "nbformat": 4,
 "nbformat_minor": 5
}