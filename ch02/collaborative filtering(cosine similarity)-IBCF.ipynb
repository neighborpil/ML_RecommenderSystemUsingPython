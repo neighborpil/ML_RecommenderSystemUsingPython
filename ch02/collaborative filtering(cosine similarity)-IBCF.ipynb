{
 "cells": [
  {
   "cell_type": "code",
   "execution_count": 12,
   "id": "8011cbe0",
   "metadata": {
    "pycharm": {
     "name": "#%%\n"
    },
    "ExecuteTime": {
     "end_time": "2023-07-31T02:25:13.935215Z",
     "start_time": "2023-07-31T02:25:13.931965Z"
    }
   },
   "outputs": [],
   "source": [
    "import numpy as np\n",
    "import pandas as pd\n",
    "import matplotlib.pyplot as plt\n",
    "import seaborn as sns\n",
    "%matplotlib inline\n",
    "\n",
    "from sklearn.model_selection import train_test_split\n",
    "from sklearn.feature_extraction.text import TfidfVectorizer\n",
    "from sklearn.metrics.pairwise import cosine_similarity"
   ]
  },
  {
   "cell_type": "code",
   "execution_count": 13,
   "id": "e84b68f0",
   "metadata": {
    "pycharm": {
     "name": "#%%\n"
    },
    "ExecuteTime": {
     "end_time": "2023-07-31T02:25:15.181106Z",
     "start_time": "2023-07-31T02:25:15.140831Z"
    }
   },
   "outputs": [],
   "source": [
    "u_cols = ['user_id', 'age', 'sex', 'occupation', 'zip_code']\n",
    "users = pd.read_csv('./u.user', sep='|', names=u_cols, encoding='latin-1')\n",
    "# users = users.set_index('user_id')\n",
    "# users.head()\n",
    "\n",
    "# u.itm 파일을 DataFrame으로 읽기\n",
    "i_cols = ['movie_id', 'title', 'release date', 'video release date', 'IMDB URL', \n",
    "    'unknown', 'Action', 'Adventure', 'Animation', 'Children\\'s', 'Comedy', 'Crime', \n",
    "    'Documentary', 'Drama', 'Fantasy', 'Film-Noir', 'Horror', 'Musical', 'Mystery', \n",
    "    'Romance', 'Sci-fi', 'Thriller', 'War', 'Western']\n",
    "movies = pd.read_csv('./u.item', sep='|', names=i_cols, encoding='latin-1')\n",
    "# movies = movies.set_index('movie_id')\n",
    "# movies.head()\n",
    "\n",
    "# u.data\n",
    "r_cols = ['user_id', 'movie_id', 'rating', 'timestamp']\n",
    "ratings = pd.read_csv('./u.data', sep='\\t', names=r_cols, encoding='latin-1')\n",
    "# ratings = ratings.set_index('user_id')\n",
    "# ratings.head()\n",
    "\n",
    "# remove timestamp\n",
    "ratings = ratings.drop('timestamp', axis=1)\n",
    "# ratings.head()\n",
    "\n",
    "# remove all except movie id and title\n",
    "movies = movies[['movie_id', 'title']]\n",
    "# movies.head()"
   ]
  },
  {
   "cell_type": "code",
   "execution_count": 14,
   "id": "c6b1dc1e",
   "metadata": {
    "pycharm": {
     "name": "#%%\n"
    },
    "ExecuteTime": {
     "end_time": "2023-07-31T02:25:16.051183Z",
     "start_time": "2023-07-31T02:25:16.001978Z"
    }
   },
   "outputs": [],
   "source": [
    "X = ratings.copy() # deep copy\n",
    "y = ratings['user_id']\n",
    "X_train, X_test, y_train, y_test = train_test_split(X, y, test_size=0.25, stratify=y)"
   ]
  },
  {
   "cell_type": "code",
   "execution_count": 15,
   "id": "8570ab74",
   "metadata": {
    "pycharm": {
     "name": "#%%\n"
    },
    "ExecuteTime": {
     "end_time": "2023-07-31T02:25:16.699417Z",
     "start_time": "2023-07-31T02:25:16.671790Z"
    }
   },
   "outputs": [
    {
     "name": "stdout",
     "output_type": "stream",
     "text": [
      "movie_id  1     2     3     4     5     6     7     8     9     10    ...  \\\n",
      "user_id                                                               ...   \n",
      "1          5.0   3.0   NaN   3.0   3.0   5.0   NaN   NaN   5.0   NaN  ...   \n",
      "2          NaN   NaN   NaN   NaN   NaN   NaN   NaN   NaN   NaN   2.0  ...   \n",
      "3          NaN   NaN   NaN   NaN   NaN   NaN   NaN   NaN   NaN   NaN  ...   \n",
      "4          NaN   NaN   NaN   NaN   NaN   NaN   NaN   NaN   NaN   NaN  ...   \n",
      "5          4.0   3.0   NaN   NaN   NaN   NaN   NaN   NaN   NaN   NaN  ...   \n",
      "...        ...   ...   ...   ...   ...   ...   ...   ...   ...   ...  ...   \n",
      "939        NaN   NaN   NaN   NaN   NaN   NaN   NaN   NaN   5.0   NaN  ...   \n",
      "940        NaN   NaN   NaN   NaN   NaN   NaN   4.0   5.0   NaN   NaN  ...   \n",
      "941        5.0   NaN   NaN   NaN   NaN   NaN   4.0   NaN   NaN   NaN  ...   \n",
      "942        NaN   NaN   NaN   NaN   NaN   NaN   NaN   NaN   NaN   NaN  ...   \n",
      "943        NaN   NaN   NaN   NaN   NaN   NaN   NaN   NaN   3.0   NaN  ...   \n",
      "\n",
      "movie_id  1671  1672  1673  1675  1676  1677  1678  1679  1680  1681  \n",
      "user_id                                                               \n",
      "1          NaN   NaN   NaN   NaN   NaN   NaN   NaN   NaN   NaN   NaN  \n",
      "2          NaN   NaN   NaN   NaN   NaN   NaN   NaN   NaN   NaN   NaN  \n",
      "3          NaN   NaN   NaN   NaN   NaN   NaN   NaN   NaN   NaN   NaN  \n",
      "4          NaN   NaN   NaN   NaN   NaN   NaN   NaN   NaN   NaN   NaN  \n",
      "5          NaN   NaN   NaN   NaN   NaN   NaN   NaN   NaN   NaN   NaN  \n",
      "...        ...   ...   ...   ...   ...   ...   ...   ...   ...   ...  \n",
      "939        NaN   NaN   NaN   NaN   NaN   NaN   NaN   NaN   NaN   NaN  \n",
      "940        NaN   NaN   NaN   NaN   NaN   NaN   NaN   NaN   NaN   NaN  \n",
      "941        NaN   NaN   NaN   NaN   NaN   NaN   NaN   NaN   NaN   NaN  \n",
      "942        NaN   NaN   NaN   NaN   NaN   NaN   NaN   NaN   NaN   NaN  \n",
      "943        NaN   NaN   NaN   NaN   NaN   NaN   NaN   NaN   NaN   NaN  \n",
      "\n",
      "[943 rows x 1636 columns]\n"
     ]
    }
   ],
   "source": [
    "def RMSE(y_true, y_pred): # root mean square error\n",
    "    return np.sqrt(np.mean((np.array(y_true) - np.array(y_pred))**2))\n",
    "\n",
    "def score(model):\n",
    "    id_pairs = zip(X_test['user_id'], X_test['movie_id'])\n",
    "    y_pred = np.array([model(user, movie) for (user, movie) in id_pairs])\n",
    "    y_true = np.array(X_test['rating'])\n",
    "    return RMSE(y_true, y_pred)\n",
    "\n",
    "rating_matrix = X_train.pivot(index='user_id', columns='movie_id', values='rating')\n",
    "print(rating_matrix)"
   ]
  },
  {
   "cell_type": "code",
   "execution_count": 16,
   "id": "200f2930",
   "metadata": {
    "pycharm": {
     "name": "#%%\n"
    },
    "ExecuteTime": {
     "end_time": "2023-07-31T02:25:17.663627Z",
     "start_time": "2023-07-31T02:25:17.658599Z"
    }
   },
   "outputs": [],
   "source": [
    "rating_matrix_t = np.transpose(rating_matrix)"
   ]
  },
  {
   "cell_type": "code",
   "execution_count": 17,
   "id": "4dd736a1",
   "metadata": {
    "pycharm": {
     "name": "#%%\n"
    },
    "ExecuteTime": {
     "end_time": "2023-07-31T02:25:19.163447Z",
     "start_time": "2023-07-31T02:25:19.143635Z"
    }
   },
   "outputs": [
    {
     "data": {
      "text/plain": "user_id   1    2    3    4    5    6    7    8    9    10   ...  934  935  \\\nmovie_id                                                    ...             \n1         5.0  NaN  NaN  NaN  4.0  NaN  NaN  NaN  NaN  4.0  ...  2.0  NaN   \n2         3.0  NaN  NaN  NaN  3.0  NaN  NaN  NaN  NaN  NaN  ...  NaN  NaN   \n3         NaN  NaN  NaN  NaN  NaN  NaN  NaN  NaN  NaN  NaN  ...  NaN  NaN   \n4         3.0  NaN  NaN  NaN  NaN  NaN  5.0  NaN  NaN  4.0  ...  NaN  NaN   \n5         3.0  NaN  NaN  NaN  NaN  NaN  NaN  NaN  NaN  NaN  ...  NaN  NaN   \n\nuser_id   936  937  938  939  940  941  942  943  \nmovie_id                                          \n1         4.0  NaN  NaN  NaN  NaN  5.0  NaN  NaN  \n2         NaN  NaN  NaN  NaN  NaN  NaN  NaN  NaN  \n3         NaN  NaN  NaN  NaN  NaN  NaN  NaN  NaN  \n4         NaN  NaN  NaN  NaN  NaN  NaN  NaN  NaN  \n5         NaN  NaN  NaN  NaN  NaN  NaN  NaN  NaN  \n\n[5 rows x 943 columns]",
      "text/html": "<div>\n<style scoped>\n    .dataframe tbody tr th:only-of-type {\n        vertical-align: middle;\n    }\n\n    .dataframe tbody tr th {\n        vertical-align: top;\n    }\n\n    .dataframe thead th {\n        text-align: right;\n    }\n</style>\n<table border=\"1\" class=\"dataframe\">\n  <thead>\n    <tr style=\"text-align: right;\">\n      <th>user_id</th>\n      <th>1</th>\n      <th>2</th>\n      <th>3</th>\n      <th>4</th>\n      <th>5</th>\n      <th>6</th>\n      <th>7</th>\n      <th>8</th>\n      <th>9</th>\n      <th>10</th>\n      <th>...</th>\n      <th>934</th>\n      <th>935</th>\n      <th>936</th>\n      <th>937</th>\n      <th>938</th>\n      <th>939</th>\n      <th>940</th>\n      <th>941</th>\n      <th>942</th>\n      <th>943</th>\n    </tr>\n    <tr>\n      <th>movie_id</th>\n      <th></th>\n      <th></th>\n      <th></th>\n      <th></th>\n      <th></th>\n      <th></th>\n      <th></th>\n      <th></th>\n      <th></th>\n      <th></th>\n      <th></th>\n      <th></th>\n      <th></th>\n      <th></th>\n      <th></th>\n      <th></th>\n      <th></th>\n      <th></th>\n      <th></th>\n      <th></th>\n      <th></th>\n    </tr>\n  </thead>\n  <tbody>\n    <tr>\n      <th>1</th>\n      <td>5.0</td>\n      <td>NaN</td>\n      <td>NaN</td>\n      <td>NaN</td>\n      <td>4.0</td>\n      <td>NaN</td>\n      <td>NaN</td>\n      <td>NaN</td>\n      <td>NaN</td>\n      <td>4.0</td>\n      <td>...</td>\n      <td>2.0</td>\n      <td>NaN</td>\n      <td>4.0</td>\n      <td>NaN</td>\n      <td>NaN</td>\n      <td>NaN</td>\n      <td>NaN</td>\n      <td>5.0</td>\n      <td>NaN</td>\n      <td>NaN</td>\n    </tr>\n    <tr>\n      <th>2</th>\n      <td>3.0</td>\n      <td>NaN</td>\n      <td>NaN</td>\n      <td>NaN</td>\n      <td>3.0</td>\n      <td>NaN</td>\n      <td>NaN</td>\n      <td>NaN</td>\n      <td>NaN</td>\n      <td>NaN</td>\n      <td>...</td>\n      <td>NaN</td>\n      <td>NaN</td>\n      <td>NaN</td>\n      <td>NaN</td>\n      <td>NaN</td>\n      <td>NaN</td>\n      <td>NaN</td>\n      <td>NaN</td>\n      <td>NaN</td>\n      <td>NaN</td>\n    </tr>\n    <tr>\n      <th>3</th>\n      <td>NaN</td>\n      <td>NaN</td>\n      <td>NaN</td>\n      <td>NaN</td>\n      <td>NaN</td>\n      <td>NaN</td>\n      <td>NaN</td>\n      <td>NaN</td>\n      <td>NaN</td>\n      <td>NaN</td>\n      <td>...</td>\n      <td>NaN</td>\n      <td>NaN</td>\n      <td>NaN</td>\n      <td>NaN</td>\n      <td>NaN</td>\n      <td>NaN</td>\n      <td>NaN</td>\n      <td>NaN</td>\n      <td>NaN</td>\n      <td>NaN</td>\n    </tr>\n    <tr>\n      <th>4</th>\n      <td>3.0</td>\n      <td>NaN</td>\n      <td>NaN</td>\n      <td>NaN</td>\n      <td>NaN</td>\n      <td>NaN</td>\n      <td>5.0</td>\n      <td>NaN</td>\n      <td>NaN</td>\n      <td>4.0</td>\n      <td>...</td>\n      <td>NaN</td>\n      <td>NaN</td>\n      <td>NaN</td>\n      <td>NaN</td>\n      <td>NaN</td>\n      <td>NaN</td>\n      <td>NaN</td>\n      <td>NaN</td>\n      <td>NaN</td>\n      <td>NaN</td>\n    </tr>\n    <tr>\n      <th>5</th>\n      <td>3.0</td>\n      <td>NaN</td>\n      <td>NaN</td>\n      <td>NaN</td>\n      <td>NaN</td>\n      <td>NaN</td>\n      <td>NaN</td>\n      <td>NaN</td>\n      <td>NaN</td>\n      <td>NaN</td>\n      <td>...</td>\n      <td>NaN</td>\n      <td>NaN</td>\n      <td>NaN</td>\n      <td>NaN</td>\n      <td>NaN</td>\n      <td>NaN</td>\n      <td>NaN</td>\n      <td>NaN</td>\n      <td>NaN</td>\n      <td>NaN</td>\n    </tr>\n  </tbody>\n</table>\n<p>5 rows × 943 columns</p>\n</div>"
     },
     "execution_count": 17,
     "metadata": {},
     "output_type": "execute_result"
    }
   ],
   "source": [
    "rating_matrix_t.head()"
   ]
  },
  {
   "cell_type": "code",
   "execution_count": 18,
   "id": "4426acdf",
   "metadata": {
    "pycharm": {
     "name": "#%%\n"
    },
    "ExecuteTime": {
     "end_time": "2023-07-31T02:25:21.427466Z",
     "start_time": "2023-07-31T02:25:20.279995Z"
    }
   },
   "outputs": [
    {
     "data": {
      "text/plain": "<AxesSubplot: xlabel='user_id', ylabel='movie_id'>"
     },
     "execution_count": 18,
     "metadata": {},
     "output_type": "execute_result"
    },
    {
     "data": {
      "text/plain": "<Figure size 640x480 with 1 Axes>",
      "image/png": "[encoded data removed]"
     },
     "metadata": {},
     "output_type": "display_data"
    }
   ],
   "source": [
    "sns.heatmap(rating_matrix_t.isnull(), yticklabels=False, cbar=False)"
   ]
  },
  {
   "cell_type": "code",
   "execution_count": 19,
   "id": "859833c9",
   "metadata": {
    "pycharm": {
     "name": "#%%\n"
    },
    "ExecuteTime": {
     "end_time": "2023-07-31T02:25:21.435824Z",
     "start_time": "2023-07-31T02:25:21.428142Z"
    }
   },
   "outputs": [],
   "source": [
    "# train set의 모든 가능한 사용자 pair의 cosine similarities를 계산\n",
    "matrix_dummy = rating_matrix_t.copy().fillna(0)"
   ]
  },
  {
   "cell_type": "code",
   "execution_count": 20,
   "id": "cb4b34b1",
   "metadata": {
    "pycharm": {
     "name": "#%%\n"
    },
    "ExecuteTime": {
     "end_time": "2023-07-31T02:25:21.779498Z",
     "start_time": "2023-07-31T02:25:21.776445Z"
    }
   },
   "outputs": [
    {
     "data": {
      "text/plain": "user_id   1    2    3    4    5    6    7    8    9    10   ...  934  935  \\\nmovie_id                                                    ...             \n1         5.0  0.0  0.0  0.0  4.0  0.0  0.0  0.0  0.0  4.0  ...  2.0  0.0   \n2         3.0  0.0  0.0  0.0  3.0  0.0  0.0  0.0  0.0  0.0  ...  0.0  0.0   \n3         0.0  0.0  0.0  0.0  0.0  0.0  0.0  0.0  0.0  0.0  ...  0.0  0.0   \n4         3.0  0.0  0.0  0.0  0.0  0.0  5.0  0.0  0.0  4.0  ...  0.0  0.0   \n5         3.0  0.0  0.0  0.0  0.0  0.0  0.0  0.0  0.0  0.0  ...  0.0  0.0   \n\nuser_id   936  937  938  939  940  941  942  943  \nmovie_id                                          \n1         4.0  0.0  0.0  0.0  0.0  5.0  0.0  0.0  \n2         0.0  0.0  0.0  0.0  0.0  0.0  0.0  0.0  \n3         0.0  0.0  0.0  0.0  0.0  0.0  0.0  0.0  \n4         0.0  0.0  0.0  0.0  0.0  0.0  0.0  0.0  \n5         0.0  0.0  0.0  0.0  0.0  0.0  0.0  0.0  \n\n[5 rows x 943 columns]",
      "text/html": "<div>\n<style scoped>\n    .dataframe tbody tr th:only-of-type {\n        vertical-align: middle;\n    }\n\n    .dataframe tbody tr th {\n        vertical-align: top;\n    }\n\n    .dataframe thead th {\n        text-align: right;\n    }\n</style>\n<table border=\"1\" class=\"dataframe\">\n  <thead>\n    <tr style=\"text-align: right;\">\n      <th>user_id</th>\n      <th>1</th>\n      <th>2</th>\n      <th>3</th>\n      <th>4</th>\n      <th>5</th>\n      <th>6</th>\n      <th>7</th>\n      <th>8</th>\n      <th>9</th>\n      <th>10</th>\n      <th>...</th>\n      <th>934</th>\n      <th>935</th>\n      <th>936</th>\n      <th>937</th>\n      <th>938</th>\n      <th>939</th>\n      <th>940</th>\n      <th>941</th>\n      <th>942</th>\n      <th>943</th>\n    </tr>\n    <tr>\n      <th>movie_id</th>\n      <th></th>\n      <th></th>\n      <th></th>\n      <th></th>\n      <th></th>\n      <th></th>\n      <th></th>\n      <th></th>\n      <th></th>\n      <th></th>\n      <th></th>\n      <th></th>\n      <th></th>\n      <th></th>\n      <th></th>\n      <th></th>\n      <th></th>\n      <th></th>\n      <th></th>\n      <th></th>\n      <th></th>\n    </tr>\n  </thead>\n  <tbody>\n    <tr>\n      <th>1</th>\n      <td>5.0</td>\n      <td>0.0</td>\n      <td>0.0</td>\n      <td>0.0</td>\n      <td>4.0</td>\n      <td>0.0</td>\n      <td>0.0</td>\n      <td>0.0</td>\n      <td>0.0</td>\n      <td>4.0</td>\n      <td>...</td>\n      <td>2.0</td>\n      <td>0.0</td>\n      <td>4.0</td>\n      <td>0.0</td>\n      <td>0.0</td>\n      <td>0.0</td>\n      <td>0.0</td>\n      <td>5.0</td>\n      <td>0.0</td>\n      <td>0.0</td>\n    </tr>\n    <tr>\n      <th>2</th>\n      <td>3.0</td>\n      <td>0.0</td>\n      <td>0.0</td>\n      <td>0.0</td>\n      <td>3.0</td>\n      <td>0.0</td>\n      <td>0.0</td>\n      <td>0.0</td>\n      <td>0.0</td>\n      <td>0.0</td>\n      <td>...</td>\n      <td>0.0</td>\n      <td>0.0</td>\n      <td>0.0</td>\n      <td>0.0</td>\n      <td>0.0</td>\n      <td>0.0</td>\n      <td>0.0</td>\n      <td>0.0</td>\n      <td>0.0</td>\n      <td>0.0</td>\n    </tr>\n    <tr>\n      <th>3</th>\n      <td>0.0</td>\n      <td>0.0</td>\n      <td>0.0</td>\n      <td>0.0</td>\n      <td>0.0</td>\n      <td>0.0</td>\n      <td>0.0</td>\n      <td>0.0</td>\n      <td>0.0</td>\n      <td>0.0</td>\n      <td>...</td>\n      <td>0.0</td>\n      <td>0.0</td>\n      <td>0.0</td>\n      <td>0.0</td>\n      <td>0.0</td>\n      <td>0.0</td>\n      <td>0.0</td>\n      <td>0.0</td>\n      <td>0.0</td>\n      <td>0.0</td>\n    </tr>\n    <tr>\n      <th>4</th>\n      <td>3.0</td>\n      <td>0.0</td>\n      <td>0.0</td>\n      <td>0.0</td>\n      <td>0.0</td>\n      <td>0.0</td>\n      <td>5.0</td>\n      <td>0.0</td>\n      <td>0.0</td>\n      <td>4.0</td>\n      <td>...</td>\n      <td>0.0</td>\n      <td>0.0</td>\n      <td>0.0</td>\n      <td>0.0</td>\n      <td>0.0</td>\n      <td>0.0</td>\n      <td>0.0</td>\n      <td>0.0</td>\n      <td>0.0</td>\n      <td>0.0</td>\n    </tr>\n    <tr>\n      <th>5</th>\n      <td>3.0</td>\n      <td>0.0</td>\n      <td>0.0</td>\n      <td>0.0</td>\n      <td>0.0</td>\n      <td>0.0</td>\n      <td>0.0</td>\n      <td>0.0</td>\n      <td>0.0</td>\n      <td>0.0</td>\n      <td>...</td>\n      <td>0.0</td>\n      <td>0.0</td>\n      <td>0.0</td>\n      <td>0.0</td>\n      <td>0.0</td>\n      <td>0.0</td>\n      <td>0.0</td>\n      <td>0.0</td>\n      <td>0.0</td>\n      <td>0.0</td>\n    </tr>\n  </tbody>\n</table>\n<p>5 rows × 943 columns</p>\n</div>"
     },
     "execution_count": 20,
     "metadata": {},
     "output_type": "execute_result"
    }
   ],
   "source": [
    "matrix_dummy.head()"
   ]
  },
  {
   "cell_type": "code",
   "execution_count": 21,
   "id": "ed1de02b",
   "metadata": {
    "pycharm": {
     "name": "#%%\n"
    },
    "ExecuteTime": {
     "end_time": "2023-07-31T02:25:23.492942Z",
     "start_time": "2023-07-31T02:25:22.475261Z"
    }
   },
   "outputs": [
    {
     "data": {
      "text/plain": "<AxesSubplot: xlabel='user_id', ylabel='movie_id'>"
     },
     "execution_count": 21,
     "metadata": {},
     "output_type": "execute_result"
    },
    {
     "data": {
      "text/plain": "<Figure size 640x480 with 1 Axes>",
      "image/png": "[encoded data removed]"
     },
     "metadata": {},
     "output_type": "display_data"
    }
   ],
   "source": [
    "sns.heatmap(matrix_dummy.isnull(), yticklabels=False, cbar=False)"
   ]
  },
  {
   "cell_type": "code",
   "execution_count": 22,
   "id": "c195c8c8",
   "metadata": {
    "pycharm": {
     "name": "#%%\n"
    },
    "ExecuteTime": {
     "end_time": "2023-07-31T02:25:24.482593Z",
     "start_time": "2023-07-31T02:25:24.420819Z"
    }
   },
   "outputs": [],
   "source": [
    "item_similarity = cosine_similarity(matrix_dummy, matrix_dummy)"
   ]
  },
  {
   "cell_type": "code",
   "execution_count": 23,
   "id": "66b2c608",
   "metadata": {
    "pycharm": {
     "name": "#%%\n"
    },
    "ExecuteTime": {
     "end_time": "2023-07-31T02:25:32.287043Z",
     "start_time": "2023-07-31T02:25:32.281349Z"
    }
   },
   "outputs": [
    {
     "data": {
      "text/plain": "array([1.        , 0.34319672, 0.21774671, ..., 0.        , 0.        ,\n       0.05430754])"
     },
     "execution_count": 23,
     "metadata": {},
     "output_type": "execute_result"
    }
   ],
   "source": [
    "item_similarity[0]"
   ]
  },
  {
   "cell_type": "code",
   "execution_count": 24,
   "id": "833d66cc",
   "metadata": {
    "pycharm": {
     "name": "#%%\n"
    },
    "ExecuteTime": {
     "end_time": "2023-07-31T02:25:36.227324Z",
     "start_time": "2023-07-31T02:25:36.223145Z"
    }
   },
   "outputs": [
    {
     "data": {
      "text/plain": "1636"
     },
     "execution_count": 24,
     "metadata": {},
     "output_type": "execute_result"
    }
   ],
   "source": [
    "# user가 movie에 대한 선호도를 나타낸다\n",
    "# 사람은 943명이고 영호는 1600개이다\n",
    "# 한사람의 전체 영화에 대한 선호도는 1600개이며, 이에 대한 코사인 유사도는 943 * 943개이다\n",
    "\n",
    "len(item_similarity[0])"
   ]
  },
  {
   "cell_type": "code",
   "execution_count": 25,
   "id": "c7cab8f9",
   "metadata": {
    "pycharm": {
     "name": "#%%\n"
    },
    "ExecuteTime": {
     "end_time": "2023-07-31T02:25:37.625172Z",
     "start_time": "2023-07-31T02:25:37.614723Z"
    }
   },
   "outputs": [],
   "source": [
    "item_similarity = pd.DataFrame(item_similarity, index=rating_matrix_t.index, columns=rating_matrix_t.index)"
   ]
  },
  {
   "cell_type": "code",
   "execution_count": 26,
   "id": "30f79de6",
   "metadata": {
    "pycharm": {
     "name": "#%%\n"
    },
    "ExecuteTime": {
     "end_time": "2023-07-31T02:25:38.067285Z",
     "start_time": "2023-07-31T02:25:38.060730Z"
    }
   },
   "outputs": [
    {
     "data": {
      "text/plain": "movie_id      1         2         3         4         5         6     \\\nmovie_id                                                               \n1         1.000000  0.343197  0.217747  0.353973  0.217120  0.086579   \n2         0.343197  1.000000  0.227319  0.394268  0.267368  0.062165   \n3         0.217747  0.227319  1.000000  0.230870  0.140689  0.022238   \n4         0.353973  0.394268  0.230870  1.000000  0.143186  0.081477   \n5         0.217120  0.267368  0.140689  0.143186  1.000000  0.031482   \n\nmovie_id      7         8         9         10    ...  1671  1672      1673  \\\nmovie_id                                          ...                         \n1         0.467188  0.360684  0.377947  0.195785  ...   0.0   0.0  0.040731   \n2         0.315652  0.261239  0.192768  0.115288  ...   0.0   0.0  0.000000   \n3         0.256987  0.180517  0.231958  0.114845  ...   0.0   0.0  0.000000   \n4         0.380861  0.417202  0.333659  0.198830  ...   0.0   0.0  0.000000   \n5         0.238725  0.149422  0.191160  0.032743  ...   0.0   0.0  0.000000   \n\nmovie_id      1675      1676      1677  1678  1679  1680      1681  \nmovie_id                                                            \n1         0.000000  0.000000  0.040731   0.0   0.0   0.0  0.054308  \n2         0.000000  0.000000  0.000000   0.0   0.0   0.0  0.086966  \n3         0.000000  0.000000  0.039406   0.0   0.0   0.0  0.000000  \n4         0.104622  0.104622  0.041849   0.0   0.0   0.0  0.000000  \n5         0.000000  0.000000  0.000000   0.0   0.0   0.0  0.000000  \n\n[5 rows x 1636 columns]",
      "text/html": "<div>\n<style scoped>\n    .dataframe tbody tr th:only-of-type {\n        vertical-align: middle;\n    }\n\n    .dataframe tbody tr th {\n        vertical-align: top;\n    }\n\n    .dataframe thead th {\n        text-align: right;\n    }\n</style>\n<table border=\"1\" class=\"dataframe\">\n  <thead>\n    <tr style=\"text-align: right;\">\n      <th>movie_id</th>\n      <th>1</th>\n      <th>2</th>\n      <th>3</th>\n      <th>4</th>\n      <th>5</th>\n      <th>6</th>\n      <th>7</th>\n      <th>8</th>\n      <th>9</th>\n      <th>10</th>\n      <th>...</th>\n      <th>1671</th>\n      <th>1672</th>\n      <th>1673</th>\n      <th>1675</th>\n      <th>1676</th>\n      <th>1677</th>\n      <th>1678</th>\n      <th>1679</th>\n      <th>1680</th>\n      <th>1681</th>\n    </tr>\n    <tr>\n      <th>movie_id</th>\n      <th></th>\n      <th></th>\n      <th></th>\n      <th></th>\n      <th></th>\n      <th></th>\n      <th></th>\n      <th></th>\n      <th></th>\n      <th></th>\n      <th></th>\n      <th></th>\n      <th></th>\n      <th></th>\n      <th></th>\n      <th></th>\n      <th></th>\n      <th></th>\n      <th></th>\n      <th></th>\n      <th></th>\n    </tr>\n  </thead>\n  <tbody>\n    <tr>\n      <th>1</th>\n      <td>1.000000</td>\n      <td>0.343197</td>\n      <td>0.217747</td>\n      <td>0.353973</td>\n      <td>0.217120</td>\n      <td>0.086579</td>\n      <td>0.467188</td>\n      <td>0.360684</td>\n      <td>0.377947</td>\n      <td>0.195785</td>\n      <td>...</td>\n      <td>0.0</td>\n      <td>0.0</td>\n      <td>0.040731</td>\n      <td>0.000000</td>\n      <td>0.000000</td>\n      <td>0.040731</td>\n      <td>0.0</td>\n      <td>0.0</td>\n      <td>0.0</td>\n      <td>0.054308</td>\n    </tr>\n    <tr>\n      <th>2</th>\n      <td>0.343197</td>\n      <td>1.000000</td>\n      <td>0.227319</td>\n      <td>0.394268</td>\n      <td>0.267368</td>\n      <td>0.062165</td>\n      <td>0.315652</td>\n      <td>0.261239</td>\n      <td>0.192768</td>\n      <td>0.115288</td>\n      <td>...</td>\n      <td>0.0</td>\n      <td>0.0</td>\n      <td>0.000000</td>\n      <td>0.000000</td>\n      <td>0.000000</td>\n      <td>0.000000</td>\n      <td>0.0</td>\n      <td>0.0</td>\n      <td>0.0</td>\n      <td>0.086966</td>\n    </tr>\n    <tr>\n      <th>3</th>\n      <td>0.217747</td>\n      <td>0.227319</td>\n      <td>1.000000</td>\n      <td>0.230870</td>\n      <td>0.140689</td>\n      <td>0.022238</td>\n      <td>0.256987</td>\n      <td>0.180517</td>\n      <td>0.231958</td>\n      <td>0.114845</td>\n      <td>...</td>\n      <td>0.0</td>\n      <td>0.0</td>\n      <td>0.000000</td>\n      <td>0.000000</td>\n      <td>0.000000</td>\n      <td>0.039406</td>\n      <td>0.0</td>\n      <td>0.0</td>\n      <td>0.0</td>\n      <td>0.000000</td>\n    </tr>\n    <tr>\n      <th>4</th>\n      <td>0.353973</td>\n      <td>0.394268</td>\n      <td>0.230870</td>\n      <td>1.000000</td>\n      <td>0.143186</td>\n      <td>0.081477</td>\n      <td>0.380861</td>\n      <td>0.417202</td>\n      <td>0.333659</td>\n      <td>0.198830</td>\n      <td>...</td>\n      <td>0.0</td>\n      <td>0.0</td>\n      <td>0.000000</td>\n      <td>0.104622</td>\n      <td>0.104622</td>\n      <td>0.041849</td>\n      <td>0.0</td>\n      <td>0.0</td>\n      <td>0.0</td>\n      <td>0.000000</td>\n    </tr>\n    <tr>\n      <th>5</th>\n      <td>0.217120</td>\n      <td>0.267368</td>\n      <td>0.140689</td>\n      <td>0.143186</td>\n      <td>1.000000</td>\n      <td>0.031482</td>\n      <td>0.238725</td>\n      <td>0.149422</td>\n      <td>0.191160</td>\n      <td>0.032743</td>\n      <td>...</td>\n      <td>0.0</td>\n      <td>0.0</td>\n      <td>0.000000</td>\n      <td>0.000000</td>\n      <td>0.000000</td>\n      <td>0.000000</td>\n      <td>0.0</td>\n      <td>0.0</td>\n      <td>0.0</td>\n      <td>0.000000</td>\n    </tr>\n  </tbody>\n</table>\n<p>5 rows × 1636 columns</p>\n</div>"
     },
     "execution_count": 26,
     "metadata": {},
     "output_type": "execute_result"
    }
   ],
   "source": [
    "item_similarity.head()"
   ]
  },
  {
   "cell_type": "code",
   "execution_count": 27,
   "id": "74d04f8f",
   "metadata": {
    "pycharm": {
     "name": "#%%\n"
    },
    "ExecuteTime": {
     "end_time": "2023-07-31T02:25:43.546201Z",
     "start_time": "2023-07-31T02:25:43.535926Z"
    }
   },
   "outputs": [],
   "source": [
    "# 주어진 영화의 (movie_id) 가중평균 rating을 계산하는 함수, \n",
    "# 가중치는 주어진 사용자와 다른 사용자 간의 유사도(user_similarity)\n",
    "def CF_IBCF(user_id, movie_id):\n",
    "    if movie_id in item_similarity:\n",
    "        sim_scores = item_similarity[movie_id].copy()\n",
    "        user_rating = rating_matrix_t[user_id].copy()\n",
    "        none_rating_idx = user_rating[user_rating.isnull()].index\n",
    "        user_rating = user_rating.dropna()\n",
    "        sim_scores = sim_scores.drop(none_rating_idx)\n",
    "        mean_rating = np.dot(sim_scores, user_rating) / sim_scores.sum()\n",
    "    else:\n",
    "        mean_rating = 3.0\n",
    "    return mean_rating"
   ]
  },
  {
   "cell_type": "code",
   "execution_count": 28,
   "id": "d2d4776c",
   "metadata": {
    "pycharm": {
     "name": "#%%\n"
    },
    "ExecuteTime": {
     "end_time": "2023-07-31T02:25:52.757821Z",
     "start_time": "2023-07-31T02:25:46.906564Z"
    }
   },
   "outputs": [
    {
     "data": {
      "text/plain": "1.0161054065499895"
     },
     "execution_count": 28,
     "metadata": {},
     "output_type": "execute_result"
    }
   ],
   "source": [
    "# 정확도 계산\n",
    "score(CF_IBCF)"
   ]
  },
  {
   "cell_type": "code",
   "execution_count": 29,
   "id": "ae17630f",
   "metadata": {
    "pycharm": {
     "name": "#%%\n"
    },
    "ExecuteTime": {
     "end_time": "2023-07-31T02:26:47.362078Z",
     "start_time": "2023-07-31T02:26:47.355534Z"
    }
   },
   "outputs": [],
   "source": [
    "def recommender(user, n_items=10):\n",
    "    predictions = []\n",
    "    rated_index = rating_matrix.loc[user][rating_matrix.loc[user] > 0].index # 현재 사용자가 이미 본 영화들의 인덱스\n",
    "    items = rating_matrix.loc[user].drop(rated_index)\n",
    "    for item in items.index:\n",
    "        predictions.append(CF_IBCF(user, item))\n",
    "    # print(predictions)\n",
    "    recommendations = pd.Series(data=predictions, index=items.index, dtype=float)\n",
    "    recommendations = recommendations.sort_values(ascending=False).iloc[:n_items]\n",
    "    print(recommendations)\n",
    "    recommended_items = movies.loc[recommendations.index]['title']\n",
    "    return recommended_items"
   ]
  },
  {
   "cell_type": "code",
   "execution_count": 30,
   "outputs": [
    {
     "name": "stdout",
     "output_type": "stream",
     "text": [
      "movie_id\n",
      "1027    5.000000\n",
      "1122    4.740047\n",
      "1556    4.692361\n",
      "1619    4.675904\n",
      "1450    4.622754\n",
      "dtype: float64\n"
     ]
    },
    {
     "data": {
      "text/plain": "movie_id\n1027              Grumpier Old Men (1995)\n1122    Last Time I Saw Paris, The (1954)\n1556                   Yankee Zulu (1994)\n1619                Sixth Man, The (1997)\n1450         Foreign Correspondent (1940)\nName: title, dtype: object"
     },
     "execution_count": 30,
     "metadata": {},
     "output_type": "execute_result"
    }
   ],
   "source": [
    "recommender(user=2, n_items=5)"
   ],
   "metadata": {
    "collapsed": false,
    "ExecuteTime": {
     "end_time": "2023-07-31T02:26:54.436674Z",
     "start_time": "2023-07-31T02:26:54.103465Z"
    }
   }
  },
  {
   "cell_type": "code",
   "execution_count": null,
   "outputs": [],
   "source": [],
   "metadata": {
    "collapsed": false
   }
  }
 ],
 "metadata": {
  "kernelspec": {
   "display_name": "Python 3 (ipykernel)",
   "language": "python",
   "name": "python3"
  },
  "language_info": {
   "codemirror_mode": {
    "name": "ipython",
    "version": 3
   },
   "file_extension": ".py",
   "mimetype": "text/x-python",
   "name": "python",
   "nbconvert_exporter": "python",
   "pygments_lexer": "ipython3",
   "version": "3.10.6"
  }
 },
 "nbformat": 4,
 "nbformat_minor": 5
}
