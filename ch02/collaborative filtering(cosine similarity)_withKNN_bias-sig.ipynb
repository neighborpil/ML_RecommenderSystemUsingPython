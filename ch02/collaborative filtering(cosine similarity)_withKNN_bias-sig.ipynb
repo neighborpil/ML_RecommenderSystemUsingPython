{
 "cells": [
  {
   "cell_type": "code",
   "execution_count": 1,
   "id": "8011cbe0",
   "metadata": {
    "pycharm": {
     "name": "#%%\n"
    }
   },
   "outputs": [],
   "source": [
    "# 협업필터링, KNN을 써서 유사도가 높은 사람의 것만 필터링"
   ]
  },
  {
   "cell_type": "code",
   "execution_count": 1,
   "id": "739c115b",
   "metadata": {
    "pycharm": {
     "name": "#%%\n"
    }
   },
   "outputs": [],
   "source": [
    "import numpy as np\n",
    "import pandas as pd\n",
    "import matplotlib.pyplot as plt\n",
    "import seaborn as sns\n",
    "%matplotlib inline\n",
    "\n",
    "from sklearn.model_selection import train_test_split\n",
    "from sklearn.feature_extraction.text import TfidfVectorizer\n",
    "from sklearn.metrics.pairwise import cosine_similarity"
   ]
  },
  {
   "cell_type": "code",
   "execution_count": 2,
   "id": "e84b68f0",
   "metadata": {
    "pycharm": {
     "name": "#%%\n"
    }
   },
   "outputs": [],
   "source": [
    "u_cols = ['user_id', 'age', 'sex', 'occupation', 'zip_code']\n",
    "users = pd.read_csv('./u.user', sep='|', names=u_cols, encoding='latin-1')\n",
    "# users = users.set_index('user_id')\n",
    "# users.head()\n",
    "\n",
    "# u.itm 파일을 DataFrame으로 읽기\n",
    "i_cols = ['movie_id', 'title', 'release date', 'video release date', 'IMDB URL', \n",
    "    'unknown', 'Action', 'Adventure', 'Animation', 'Children\\'s', 'Comedy', 'Crime', \n",
    "    'Documentary', 'Drama', 'Fantasy', 'Film-Noir', 'Horror', 'Musical', 'Mystery', \n",
    "    'Romance', 'Sci-fi', 'Thriller', 'War', 'Western']\n",
    "movies = pd.read_csv('./u.item', sep='|', names=i_cols, encoding='latin-1')\n",
    "# movies = movies.set_index('movie_id')\n",
    "# movies.head()\n",
    "\n",
    "# u.data\n",
    "r_cols = ['user_id', 'movie_id', 'rating', 'timestamp']\n",
    "ratings = pd.read_csv('./u.data', sep='\\t', names=r_cols, encoding='latin-1')\n",
    "# ratings = ratings.set_index('user_id')\n",
    "# ratings.head()\n",
    "\n",
    "# remove timestamp\n",
    "ratings = ratings.drop('timestamp', axis=1)\n",
    "# ratings.head()\n",
    "\n",
    "# remove all except movie id and title\n",
    "movies = movies[['movie_id', 'title']]\n",
    "# movies.head()"
   ]
  },
  {
   "cell_type": "code",
   "execution_count": 3,
   "id": "c6b1dc1e",
   "metadata": {
    "pycharm": {
     "name": "#%%\n"
    }
   },
   "outputs": [],
   "source": [
    "X = ratings.copy() # deep copy\n",
    "y = ratings['user_id']\n",
    "X_train, X_test, y_train, y_test = train_test_split(X, y, test_size=0.25, stratify=y)"
   ]
  },
  {
   "cell_type": "markdown",
   "id": "aa03d037",
   "metadata": {
    "pycharm": {
     "name": "#%% md\n"
    }
   },
   "source": []
  },
  {
   "cell_type": "code",
   "execution_count": 4,
   "id": "8570ab74",
   "metadata": {
    "pycharm": {
     "name": "#%%\n"
    }
   },
   "outputs": [
    {
     "name": "stdout",
     "output_type": "stream",
     "text": [
      "movie_id  1     2     3     4     5     6     7     8     9     10    ...  \\\n",
      "user_id                                                               ...   \n",
      "1          5.0   3.0   4.0   3.0   3.0   5.0   4.0   1.0   5.0   3.0  ...   \n",
      "2          4.0   NaN   NaN   NaN   NaN   NaN   NaN   NaN   NaN   2.0  ...   \n",
      "3          NaN   NaN   NaN   NaN   NaN   NaN   NaN   NaN   NaN   NaN  ...   \n",
      "4          NaN   NaN   NaN   NaN   NaN   NaN   NaN   NaN   NaN   NaN  ...   \n",
      "5          4.0   3.0   NaN   NaN   NaN   NaN   NaN   NaN   NaN   NaN  ...   \n",
      "...        ...   ...   ...   ...   ...   ...   ...   ...   ...   ...  ...   \n",
      "939        NaN   NaN   NaN   NaN   NaN   NaN   NaN   NaN   5.0   NaN  ...   \n",
      "940        NaN   NaN   NaN   NaN   NaN   NaN   4.0   5.0   NaN   NaN  ...   \n",
      "941        NaN   NaN   NaN   NaN   NaN   NaN   4.0   NaN   NaN   NaN  ...   \n",
      "942        NaN   NaN   NaN   NaN   NaN   NaN   NaN   NaN   NaN   NaN  ...   \n",
      "943        NaN   5.0   NaN   NaN   NaN   NaN   NaN   NaN   3.0   NaN  ...   \n",
      "\n",
      "movie_id  1672  1673  1674  1675  1676  1678  1679  1680  1681  1682  \n",
      "user_id                                                               \n",
      "1          NaN   NaN   NaN   NaN   NaN   NaN   NaN   NaN   NaN   NaN  \n",
      "2          NaN   NaN   NaN   NaN   NaN   NaN   NaN   NaN   NaN   NaN  \n",
      "3          NaN   NaN   NaN   NaN   NaN   NaN   NaN   NaN   NaN   NaN  \n",
      "4          NaN   NaN   NaN   NaN   NaN   NaN   NaN   NaN   NaN   NaN  \n",
      "5          NaN   NaN   NaN   NaN   NaN   NaN   NaN   NaN   NaN   NaN  \n",
      "...        ...   ...   ...   ...   ...   ...   ...   ...   ...   ...  \n",
      "939        NaN   NaN   NaN   NaN   NaN   NaN   NaN   NaN   NaN   NaN  \n",
      "940        NaN   NaN   NaN   NaN   NaN   NaN   NaN   NaN   NaN   NaN  \n",
      "941        NaN   NaN   NaN   NaN   NaN   NaN   NaN   NaN   NaN   NaN  \n",
      "942        NaN   NaN   NaN   NaN   NaN   NaN   NaN   NaN   NaN   NaN  \n",
      "943        NaN   NaN   NaN   NaN   NaN   NaN   NaN   NaN   NaN   NaN  \n",
      "\n",
      "[943 rows x 1642 columns]\n"
     ]
    }
   ],
   "source": [
    "def RMSE(y_true, y_pred): # root mean square error\n",
    "    return np.sqrt(np.mean((np.array(y_true) - np.array(y_pred))**2))\n",
    "\n",
    "def score(model, neighbor_size=0):\n",
    "    id_pairs = zip(X_test['user_id'], X_test['movie_id'])\n",
    "    y_pred = np.array([model(user, movie, neighbor_size) for (user, movie) in id_pairs])\n",
    "    y_true = np.array(X_test['rating'])\n",
    "    return RMSE(y_true, y_pred)\n",
    "\n",
    "rating_matrix = X_train.pivot(index='user_id', columns='movie_id', values='rating')\n",
    "print(rating_matrix)"
   ]
  },
  {
   "cell_type": "code",
   "execution_count": 5,
   "id": "c67d15ae",
   "metadata": {
    "pycharm": {
     "name": "#%%\n"
    }
   },
   "outputs": [
    {
     "data": {
      "text/plain": [
       "Int64Index([  1,   2,   3,   4,   5,   6,   7,   8,   9,  10,\n",
       "            ...\n",
       "            934, 935, 936, 937, 938, 939, 940, 941, 942, 943],\n",
       "           dtype='int64', name='user_id', length=943)"
      ]
     },
     "execution_count": 5,
     "metadata": {},
     "output_type": "execute_result"
    }
   ],
   "source": [
    "# user의 id를 말한다\n",
    "rating_matrix.index"
   ]
  },
  {
   "cell_type": "code",
   "execution_count": 6,
   "id": "4426acdf",
   "metadata": {
    "pycharm": {
     "name": "#%%\n"
    }
   },
   "outputs": [
    {
     "data": {
      "text/plain": [
       "<AxesSubplot: xlabel='movie_id', ylabel='user_id'>"
      ]
     },
     "execution_count": 6,
     "metadata": {},
     "output_type": "execute_result"
    },
    {
     "data": {
      "image/png": "[encoded data removed]",
      "text/plain": [
       "<Figure size 640x480 with 1 Axes>"
      ]
     },
     "metadata": {},
     "output_type": "display_data"
    }
   ],
   "source": [
    "sns.heatmap(rating_matrix.isnull(), yticklabels=False, cbar=False)"
   ]
  },
  {
   "cell_type": "code",
   "execution_count": 7,
   "id": "859833c9",
   "metadata": {
    "pycharm": {
     "name": "#%%\n"
    }
   },
   "outputs": [],
   "source": [
    "# train set의 모든 가능한 사용자 pair의 cosine similarities를 계산\n",
    "matrix_dummy = rating_matrix.copy().fillna(0)"
   ]
  },
  {
   "cell_type": "code",
   "execution_count": 8,
   "id": "cb4b34b1",
   "metadata": {
    "pycharm": {
     "name": "#%%\n"
    }
   },
   "outputs": [
    {
     "data": {
      "text/html": [
       "<div>\n",
       "<style scoped>\n",
       "    .dataframe tbody tr th:only-of-type {\n",
       "        vertical-align: middle;\n",
       "    }\n",
       "\n",
       "    .dataframe tbody tr th {\n",
       "        vertical-align: top;\n",
       "    }\n",
       "\n",
       "    .dataframe thead th {\n",
       "        text-align: right;\n",
       "    }\n",
       "</style>\n",
       "<table border=\"1\" class=\"dataframe\">\n",
       "  <thead>\n",
       "    <tr style=\"text-align: right;\">\n",
       "      <th>movie_id</th>\n",
       "      <th>1</th>\n",
       "      <th>2</th>\n",
       "      <th>3</th>\n",
       "      <th>4</th>\n",
       "      <th>5</th>\n",
       "      <th>6</th>\n",
       "      <th>7</th>\n",
       "      <th>8</th>\n",
       "      <th>9</th>\n",
       "      <th>10</th>\n",
       "      <th>...</th>\n",
       "      <th>1672</th>\n",
       "      <th>1673</th>\n",
       "      <th>1674</th>\n",
       "      <th>1675</th>\n",
       "      <th>1676</th>\n",
       "      <th>1678</th>\n",
       "      <th>1679</th>\n",
       "      <th>1680</th>\n",
       "      <th>1681</th>\n",
       "      <th>1682</th>\n",
       "    </tr>\n",
       "    <tr>\n",
       "      <th>user_id</th>\n",
       "      <th></th>\n",
       "      <th></th>\n",
       "      <th></th>\n",
       "      <th></th>\n",
       "      <th></th>\n",
       "      <th></th>\n",
       "      <th></th>\n",
       "      <th></th>\n",
       "      <th></th>\n",
       "      <th></th>\n",
       "      <th></th>\n",
       "      <th></th>\n",
       "      <th></th>\n",
       "      <th></th>\n",
       "      <th></th>\n",
       "      <th></th>\n",
       "      <th></th>\n",
       "      <th></th>\n",
       "      <th></th>\n",
       "      <th></th>\n",
       "      <th></th>\n",
       "    </tr>\n",
       "  </thead>\n",
       "  <tbody>\n",
       "    <tr>\n",
       "      <th>1</th>\n",
       "      <td>5.0</td>\n",
       "      <td>3.0</td>\n",
       "      <td>4.0</td>\n",
       "      <td>3.0</td>\n",
       "      <td>3.0</td>\n",
       "      <td>5.0</td>\n",
       "      <td>4.0</td>\n",
       "      <td>1.0</td>\n",
       "      <td>5.0</td>\n",
       "      <td>3.0</td>\n",
       "      <td>...</td>\n",
       "      <td>0.0</td>\n",
       "      <td>0.0</td>\n",
       "      <td>0.0</td>\n",
       "      <td>0.0</td>\n",
       "      <td>0.0</td>\n",
       "      <td>0.0</td>\n",
       "      <td>0.0</td>\n",
       "      <td>0.0</td>\n",
       "      <td>0.0</td>\n",
       "      <td>0.0</td>\n",
       "    </tr>\n",
       "    <tr>\n",
       "      <th>2</th>\n",
       "      <td>4.0</td>\n",
       "      <td>0.0</td>\n",
       "      <td>0.0</td>\n",
       "      <td>0.0</td>\n",
       "      <td>0.0</td>\n",
       "      <td>0.0</td>\n",
       "      <td>0.0</td>\n",
       "      <td>0.0</td>\n",
       "      <td>0.0</td>\n",
       "      <td>2.0</td>\n",
       "      <td>...</td>\n",
       "      <td>0.0</td>\n",
       "      <td>0.0</td>\n",
       "      <td>0.0</td>\n",
       "      <td>0.0</td>\n",
       "      <td>0.0</td>\n",
       "      <td>0.0</td>\n",
       "      <td>0.0</td>\n",
       "      <td>0.0</td>\n",
       "      <td>0.0</td>\n",
       "      <td>0.0</td>\n",
       "    </tr>\n",
       "    <tr>\n",
       "      <th>3</th>\n",
       "      <td>0.0</td>\n",
       "      <td>0.0</td>\n",
       "      <td>0.0</td>\n",
       "      <td>0.0</td>\n",
       "      <td>0.0</td>\n",
       "      <td>0.0</td>\n",
       "      <td>0.0</td>\n",
       "      <td>0.0</td>\n",
       "      <td>0.0</td>\n",
       "      <td>0.0</td>\n",
       "      <td>...</td>\n",
       "      <td>0.0</td>\n",
       "      <td>0.0</td>\n",
       "      <td>0.0</td>\n",
       "      <td>0.0</td>\n",
       "      <td>0.0</td>\n",
       "      <td>0.0</td>\n",
       "      <td>0.0</td>\n",
       "      <td>0.0</td>\n",
       "      <td>0.0</td>\n",
       "      <td>0.0</td>\n",
       "    </tr>\n",
       "    <tr>\n",
       "      <th>4</th>\n",
       "      <td>0.0</td>\n",
       "      <td>0.0</td>\n",
       "      <td>0.0</td>\n",
       "      <td>0.0</td>\n",
       "      <td>0.0</td>\n",
       "      <td>0.0</td>\n",
       "      <td>0.0</td>\n",
       "      <td>0.0</td>\n",
       "      <td>0.0</td>\n",
       "      <td>0.0</td>\n",
       "      <td>...</td>\n",
       "      <td>0.0</td>\n",
       "      <td>0.0</td>\n",
       "      <td>0.0</td>\n",
       "      <td>0.0</td>\n",
       "      <td>0.0</td>\n",
       "      <td>0.0</td>\n",
       "      <td>0.0</td>\n",
       "      <td>0.0</td>\n",
       "      <td>0.0</td>\n",
       "      <td>0.0</td>\n",
       "    </tr>\n",
       "    <tr>\n",
       "      <th>5</th>\n",
       "      <td>4.0</td>\n",
       "      <td>3.0</td>\n",
       "      <td>0.0</td>\n",
       "      <td>0.0</td>\n",
       "      <td>0.0</td>\n",
       "      <td>0.0</td>\n",
       "      <td>0.0</td>\n",
       "      <td>0.0</td>\n",
       "      <td>0.0</td>\n",
       "      <td>0.0</td>\n",
       "      <td>...</td>\n",
       "      <td>0.0</td>\n",
       "      <td>0.0</td>\n",
       "      <td>0.0</td>\n",
       "      <td>0.0</td>\n",
       "      <td>0.0</td>\n",
       "      <td>0.0</td>\n",
       "      <td>0.0</td>\n",
       "      <td>0.0</td>\n",
       "      <td>0.0</td>\n",
       "      <td>0.0</td>\n",
       "    </tr>\n",
       "  </tbody>\n",
       "</table>\n",
       "<p>5 rows × 1642 columns</p>\n",
       "</div>"
      ],
      "text/plain": [
       "movie_id  1     2     3     4     5     6     7     8     9     10    ...  \\\n",
       "user_id                                                               ...   \n",
       "1          5.0   3.0   4.0   3.0   3.0   5.0   4.0   1.0   5.0   3.0  ...   \n",
       "2          4.0   0.0   0.0   0.0   0.0   0.0   0.0   0.0   0.0   2.0  ...   \n",
       "3          0.0   0.0   0.0   0.0   0.0   0.0   0.0   0.0   0.0   0.0  ...   \n",
       "4          0.0   0.0   0.0   0.0   0.0   0.0   0.0   0.0   0.0   0.0  ...   \n",
       "5          4.0   3.0   0.0   0.0   0.0   0.0   0.0   0.0   0.0   0.0  ...   \n",
       "\n",
       "movie_id  1672  1673  1674  1675  1676  1678  1679  1680  1681  1682  \n",
       "user_id                                                               \n",
       "1          0.0   0.0   0.0   0.0   0.0   0.0   0.0   0.0   0.0   0.0  \n",
       "2          0.0   0.0   0.0   0.0   0.0   0.0   0.0   0.0   0.0   0.0  \n",
       "3          0.0   0.0   0.0   0.0   0.0   0.0   0.0   0.0   0.0   0.0  \n",
       "4          0.0   0.0   0.0   0.0   0.0   0.0   0.0   0.0   0.0   0.0  \n",
       "5          0.0   0.0   0.0   0.0   0.0   0.0   0.0   0.0   0.0   0.0  \n",
       "\n",
       "[5 rows x 1642 columns]"
      ]
     },
     "execution_count": 8,
     "metadata": {},
     "output_type": "execute_result"
    }
   ],
   "source": [
    "matrix_dummy.head()"
   ]
  },
  {
   "cell_type": "code",
   "execution_count": 36,
   "id": "ed1de02b",
   "metadata": {
    "pycharm": {
     "name": "#%%\n"
    }
   },
   "outputs": [
    {
     "data": {
      "text/plain": [
       "<AxesSubplot: xlabel='movie_id', ylabel='user_id'>"
      ]
     },
     "execution_count": 36,
     "metadata": {},
     "output_type": "execute_result"
    },
    {
     "data": {
      "image/png": "[encoded data removed]",
      "text/plain": [
       "<Figure size 640x480 with 1 Axes>"
      ]
     },
     "metadata": {},
     "output_type": "display_data"
    }
   ],
   "source": [
    "sns.heatmap(matrix_dummy.isnull(), yticklabels=False, cbar=False)"
   ]
  },
  {
   "cell_type": "code",
   "execution_count": 9,
   "id": "c195c8c8",
   "metadata": {
    "pycharm": {
     "name": "#%%\n"
    }
   },
   "outputs": [],
   "source": [
    "user_similarity = cosine_similarity(matrix_dummy, matrix_dummy)"
   ]
  },
  {
   "cell_type": "code",
   "execution_count": 10,
   "id": "66b2c608",
   "metadata": {
    "pycharm": {
     "name": "#%%\n"
    }
   },
   "outputs": [
    {
     "data": {
      "text/plain": [
       "array([1.        , 0.08694126, 0.03802005, 0.05601983, 0.28956634,\n",
       "       0.29973106, 0.34105918, 0.24725669, 0.03340292, 0.28963791,\n",
       "       0.22980632, 0.22580906, 0.34041601, 0.22352758, 0.13682849,\n",
       "       0.36281846, 0.20272604, 0.38587766, 0.05146425, 0.21694713,\n",
       "       0.13767301, 0.22972508, 0.32758232, 0.2211621 , 0.25399475,\n",
       "       0.18536827, 0.08753871, 0.24916504, 0.09515217, 0.08821668,\n",
       "       0.10475336, 0.14173229, 0.01376676, 0.        , 0.00663198,\n",
       "       0.03523321, 0.22356621, 0.16163851, 0.03072033, 0.03901279,\n",
       "       0.20362939, 0.24834538, 0.33314164, 0.39750966, 0.13099996,\n",
       "       0.13064825, 0.0397753 , 0.17832922, 0.20828792, 0.06380969,\n",
       "       0.10422125, 0.16018764, 0.15840886, 0.1091793 , 0.17595062,\n",
       "       0.35008036, 0.20114695, 0.33381976, 0.37086755, 0.27897791,\n",
       "       0.02698091, 0.36047827, 0.20179404, 0.39056672, 0.19657995,\n",
       "       0.13006644, 0.15506468, 0.12739195, 0.21125033, 0.32959177,\n",
       "       0.19809118, 0.34006689, 0.23403527, 0.10625224, 0.15579673,\n",
       "       0.17323569, 0.29788327, 0.02752931, 0.12026529, 0.22861169,\n",
       "       0.19856327, 0.26978943, 0.28547933, 0.18453139, 0.30875041,\n",
       "       0.02895839, 0.32122207, 0.00566102, 0.2105784 , 0.25142096,\n",
       "       0.16686859, 0.40934206, 0.10689402, 0.36695092, 0.37415519,\n",
       "       0.33324831, 0.26722805, 0.08767986, 0.23228634, 0.04655204,\n",
       "       0.11022611, 0.32817391, 0.22526086, 0.21151504, 0.07930777,\n",
       "       0.21898969, 0.03568206, 0.19623562, 0.35257774, 0.1614125 ,\n",
       "       0.01074325, 0.02440638, 0.14498197, 0.22124027, 0.26370232,\n",
       "       0.22047184, 0.17135496, 0.18333699, 0.20515725, 0.1325671 ,\n",
       "       0.21898018, 0.13937463, 0.14673878, 0.13995175, 0.29176325,\n",
       "       0.01576289, 0.10258143, 0.26677615, 0.07080238, 0.31481233,\n",
       "       0.11283659, 0.10698398, 0.04266364, 0.01649946, 0.15514863,\n",
       "       0.19028811, 0.18947891, 0.18504589, 0.10899277, 0.02600255,\n",
       "       0.12040836, 0.17114593, 0.02454219, 0.35080732, 0.28288532,\n",
       "       0.0548465 , 0.03856647, 0.19640824, 0.05274444, 0.18739066,\n",
       "       0.32892576, 0.19897734, 0.13849407, 0.11775258, 0.        ,\n",
       "       0.16553421, 0.11447274, 0.30219689, 0.10694364, 0.22077989,\n",
       "       0.177233  , 0.17909983, 0.11845783, 0.06008383, 0.06468073,\n",
       "       0.00393919, 0.14756688, 0.11034068, 0.11232744, 0.        ,\n",
       "       0.05977011, 0.11570725, 0.03313614, 0.23656226, 0.23382271,\n",
       "       0.15284155, 0.29773346, 0.35877106, 0.03080914, 0.13633063,\n",
       "       0.14655583, 0.16087441, 0.20263748, 0.29563261, 0.14036761,\n",
       "       0.13478893, 0.18738072, 0.30055047, 0.32466894, 0.08599488,\n",
       "       0.05709806, 0.14737495, 0.20824392, 0.36101164, 0.18251988,\n",
       "       0.0884824 , 0.21500217, 0.3728982 , 0.15450786, 0.27899881,\n",
       "       0.34917617, 0.1315342 , 0.09051765, 0.11355616, 0.04414382,\n",
       "       0.02285987, 0.30032927, 0.14319967, 0.13921758, 0.2783344 ,\n",
       "       0.08241542, 0.11485035, 0.31179147, 0.31245306, 0.32141834,\n",
       "       0.29802243, 0.16880855, 0.17309465, 0.13225113, 0.        ,\n",
       "       0.24108636, 0.40048326, 0.0846535 , 0.14872338, 0.04711731,\n",
       "       0.21346256, 0.15775349, 0.07098695, 0.03856397, 0.27246046,\n",
       "       0.12479763, 0.31128659, 0.25966767, 0.3094278 , 0.21528126,\n",
       "       0.23325523, 0.20854651, 0.06447612, 0.25344941, 0.        ,\n",
       "       0.01950191, 0.04753727, 0.19634984, 0.34846125, 0.12109055,\n",
       "       0.2860361 , 0.19619495, 0.31702452, 0.35226357, 0.23302107,\n",
       "       0.29781357, 0.11270857, 0.2484816 , 0.23631034, 0.14210108,\n",
       "       0.23138946, 0.1208196 , 0.00354465, 0.0986335 , 0.03459854,\n",
       "       0.01540346, 0.21747535, 0.30763842, 0.21587885, 0.09980665,\n",
       "       0.09993255, 0.35615247, 0.42127814, 0.27313064, 0.1882005 ,\n",
       "       0.34259775, 0.25697976, 0.04425825, 0.161189  , 0.25744099,\n",
       "       0.4068181 , 0.12251864, 0.03668888, 0.32527052, 0.26124928,\n",
       "       0.01257688, 0.06711493, 0.19229644, 0.06356845, 0.10301805,\n",
       "       0.29188493, 0.28722376, 0.23902552, 0.1058889 , 0.30875218,\n",
       "       0.30432464, 0.29393432, 0.34061385, 0.16424411, 0.34074029,\n",
       "       0.31600621, 0.37268623, 0.2797857 , 0.32613118, 0.02687928,\n",
       "       0.40988938, 0.0349375 , 0.38595747, 0.        , 0.33913264,\n",
       "       0.13579007, 0.27647973, 0.36986225, 0.        , 0.12183525,\n",
       "       0.36972823, 0.25894605, 0.35592177, 0.18436191, 0.25967961,\n",
       "       0.20776464, 0.02527737, 0.28932611, 0.04528303, 0.26023326,\n",
       "       0.27604443, 0.18393407, 0.26084441, 0.11123481, 0.28496407,\n",
       "       0.25600418, 0.33467755, 0.32716424, 0.18899064, 0.27973901,\n",
       "       0.18481017, 0.24005576, 0.11404394, 0.37179854, 0.03466313,\n",
       "       0.17154167, 0.15613383, 0.13578894, 0.39411815, 0.14466225,\n",
       "       0.        , 0.26110884, 0.37397953, 0.32191979, 0.28718121,\n",
       "       0.33071455, 0.35543307, 0.10982643, 0.08635478, 0.25124824,\n",
       "       0.        , 0.25380293, 0.03396613, 0.28782506, 0.01073904,\n",
       "       0.01747734, 0.10522282, 0.05281435, 0.11490797, 0.25760023,\n",
       "       0.25225129, 0.01130106, 0.37602497, 0.06070525, 0.16170969,\n",
       "       0.07896535, 0.16585383, 0.19848452, 0.11933281, 0.2369254 ,\n",
       "       0.29335821, 0.12928337, 0.34127146, 0.30438188, 0.11410348,\n",
       "       0.14461564, 0.09604649, 0.33599352, 0.35143792, 0.25999161,\n",
       "       0.22358102, 0.17623274, 0.20969427, 0.0163005 , 0.25006703,\n",
       "       0.08064683, 0.38735587, 0.105632  , 0.25622261, 0.07873467,\n",
       "       0.25046364, 0.18205814, 0.26362881, 0.32582022, 0.17412288,\n",
       "       0.10691505, 0.22255593, 0.36269748, 0.29850694, 0.02417547,\n",
       "       0.22508315, 0.24256376, 0.12299911, 0.08773148, 0.28100221,\n",
       "       0.39068002, 0.36095686, 0.02671391, 0.25776584, 0.04435036,\n",
       "       0.20912436, 0.19352697, 0.16649666, 0.05682196, 0.1233974 ,\n",
       "       0.35230911, 0.38589561, 0.03753145, 0.18899206, 0.1561529 ,\n",
       "       0.24237649, 0.19726337, 0.07531761, 0.09626756, 0.32784364,\n",
       "       0.13976516, 0.02486397, 0.04650765, 0.40877609, 0.17415738,\n",
       "       0.01984537, 0.13506471, 0.09184475, 0.04926086, 0.39899185,\n",
       "       0.20169406, 0.3364562 , 0.09637864, 0.12041595, 0.05677346,\n",
       "       0.08478027, 0.30729463, 0.02756914, 0.10360998, 0.16857171,\n",
       "       0.0475517 , 0.315251  , 0.06224729, 0.14480041, 0.33334656,\n",
       "       0.04124172, 0.31962966, 0.28582499, 0.29267045, 0.36664098,\n",
       "       0.26422362, 0.42171342, 0.26365218, 0.16527778, 0.17320668,\n",
       "       0.07615211, 0.06136304, 0.17833267, 0.12756064, 0.22155544,\n",
       "       0.22845839, 0.27050224, 0.34412473, 0.09913284, 0.16740023,\n",
       "       0.09828207, 0.29578236, 0.18781633, 0.37746191, 0.08515714,\n",
       "       0.20957128, 0.05073283, 0.25262638, 0.39642317, 0.24343847,\n",
       "       0.20859566, 0.05860493, 0.24315168, 0.33744219, 0.        ,\n",
       "       0.21985973, 0.35587211, 0.27805477, 0.0362987 , 0.19985775,\n",
       "       0.11621683, 0.17436781, 0.29468875, 0.19935436, 0.34142977,\n",
       "       0.29696757, 0.37047662, 0.26648452, 0.15834312, 0.30438102,\n",
       "       0.15632606, 0.0301985 , 0.36113742, 0.30113044, 0.26455106,\n",
       "       0.264064  , 0.06825246, 0.27008309, 0.08100986, 0.00625979,\n",
       "       0.        , 0.16426514, 0.11527334, 0.37018263, 0.01150902,\n",
       "       0.09688232, 0.10449989, 0.14684214, 0.02497898, 0.08124078,\n",
       "       0.38321742, 0.12033443, 0.20889884, 0.31658626, 0.11887453,\n",
       "       0.14307259, 0.31550817, 0.19704427, 0.05932815, 0.19672629,\n",
       "       0.        , 0.26916691, 0.33111504, 0.10830624, 0.32793208,\n",
       "       0.30799165, 0.3569266 , 0.33705271, 0.16832679, 0.18530391,\n",
       "       0.17309639, 0.29534597, 0.34140228, 0.027236  , 0.32952946,\n",
       "       0.11596007, 0.01783189, 0.20902536, 0.14603926, 0.06047372,\n",
       "       0.35445072, 0.13114987, 0.22977734, 0.31487388, 0.21022682,\n",
       "       0.12967951, 0.18473567, 0.13222789, 0.18131624, 0.22412079,\n",
       "       0.40291292, 0.21593302, 0.06162827, 0.07968265, 0.1198462 ,\n",
       "       0.32174875, 0.23138917, 0.17388817, 0.1581752 , 0.03534384,\n",
       "       0.13918482, 0.13452455, 0.18832945, 0.08387182, 0.13527772,\n",
       "       0.20063638, 0.3083004 , 0.06476887, 0.21936976, 0.17173689,\n",
       "       0.15764769, 0.1732654 , 0.08106792, 0.23953314, 0.1291079 ,\n",
       "       0.28949869, 0.06862179, 0.25493868, 0.01224167, 0.13422176,\n",
       "       0.19894548, 0.33329114, 0.26194713, 0.12694095, 0.14378921,\n",
       "       0.06469004, 0.06911463, 0.04471018, 0.02901057, 0.25515686,\n",
       "       0.29322735, 0.14317728, 0.19897727, 0.17612677, 0.18369268,\n",
       "       0.35591136, 0.10105954, 0.24839993, 0.03017603, 0.17844339,\n",
       "       0.0478165 , 0.0889773 , 0.12640343, 0.13294195, 0.2201543 ,\n",
       "       0.03261833, 0.10015329, 0.32721648, 0.21239857, 0.15269796,\n",
       "       0.2655849 , 0.35094159, 0.18373344, 0.17858818, 0.22068852,\n",
       "       0.04788402, 0.30292907, 0.02376757, 0.30339777, 0.19739771,\n",
       "       0.        , 0.33205304, 0.15530883, 0.15701284, 0.07290365,\n",
       "       0.15296297, 0.13971416, 0.2831482 , 0.21718498, 0.25463935,\n",
       "       0.12848195, 0.25332316, 0.3660315 , 0.08287708, 0.25521388,\n",
       "       0.0133169 , 0.18966594, 0.34703697, 0.12658665, 0.3628772 ,\n",
       "       0.0791141 , 0.03588683, 0.3517858 , 0.28263969, 0.31107086,\n",
       "       0.04474623, 0.0618752 , 0.26908129, 0.31459313, 0.31434729,\n",
       "       0.32557485, 0.1649085 , 0.23390304, 0.30661739, 0.28066436,\n",
       "       0.31011682, 0.21152518, 0.12707082, 0.25836385, 0.12532902,\n",
       "       0.26140954, 0.12273087, 0.02353782, 0.09278988, 0.05721209,\n",
       "       0.17510592, 0.10569546, 0.15284759, 0.21839855, 0.18894225,\n",
       "       0.00703876, 0.39831227, 0.1265493 , 0.24655233, 0.03428627,\n",
       "       0.24757014, 0.03350352, 0.        , 0.1486534 , 0.23372981,\n",
       "       0.15083873, 0.11025862, 0.30327984, 0.29402204, 0.02483615,\n",
       "       0.0385525 , 0.14564836, 0.2410026 , 0.28395016, 0.16978782,\n",
       "       0.1186563 , 0.0661629 , 0.132613  , 0.21064815, 0.25446514,\n",
       "       0.1076189 , 0.2237039 , 0.09993194, 0.2822598 , 0.25958492,\n",
       "       0.32062071, 0.17701026, 0.03705681, 0.1037577 , 0.40419262,\n",
       "       0.35591212, 0.14812295, 0.0290645 , 0.20895385, 0.04202501,\n",
       "       0.219595  , 0.13421276, 0.17741624, 0.05056137, 0.04890149,\n",
       "       0.04010782, 0.37992215, 0.07910741, 0.        , 0.17154956,\n",
       "       0.16593158, 0.00627406, 0.13358453, 0.14768497, 0.16938219,\n",
       "       0.07414601, 0.21811071, 0.41454161, 0.19187369, 0.02562839,\n",
       "       0.29263225, 0.20663982, 0.13589777, 0.06695341, 0.22431893,\n",
       "       0.30407806, 0.29837731, 0.31827999, 0.35728077, 0.05374968,\n",
       "       0.25540787, 0.03317766, 0.20124167, 0.06263143, 0.02764183,\n",
       "       0.24288499, 0.34278325, 0.31811818, 0.11601133, 0.13266716,\n",
       "       0.125831  , 0.06044669, 0.29862919, 0.24317951, 0.13766756,\n",
       "       0.26439015, 0.13491355, 0.16566772, 0.12284387, 0.12523353,\n",
       "       0.17951182, 0.00734563, 0.33407418, 0.32451742, 0.04422523,\n",
       "       0.19381315, 0.19381897, 0.25214596, 0.15756772, 0.16610547,\n",
       "       0.23448137, 0.07088609, 0.03424053, 0.04362364, 0.15065611,\n",
       "       0.33132096, 0.01426106, 0.29711355, 0.1759219 , 0.3604091 ,\n",
       "       0.04976098, 0.13361478, 0.22413397, 0.18060722, 0.30213897,\n",
       "       0.36453069, 0.12105855, 0.19496854, 0.06039218, 0.11564221,\n",
       "       0.03577767, 0.13977197, 0.00961701, 0.37791442, 0.31990291,\n",
       "       0.33135461, 0.23403113, 0.04242843, 0.        , 0.02699339,\n",
       "       0.0032657 , 0.00130979, 0.06110725, 0.11073894, 0.33086527,\n",
       "       0.        , 0.10692106, 0.02954307, 0.09587059, 0.        ,\n",
       "       0.15361414, 0.15013889, 0.43383682, 0.03842392, 0.16016805,\n",
       "       0.27490535, 0.06904654, 0.1568516 , 0.20977842, 0.31510702,\n",
       "       0.19589501, 0.03897167, 0.29079689, 0.12737391, 0.17255907,\n",
       "       0.13316903, 0.10576224, 0.25247298, 0.15317333, 0.32085995,\n",
       "       0.01905194, 0.05369519, 0.31851295, 0.25942504, 0.05274096,\n",
       "       0.34884113, 0.28679536, 0.25247188, 0.07363661, 0.18991591,\n",
       "       0.18503044, 0.13858921, 0.02499409, 0.34569707, 0.06700703,\n",
       "       0.03422152, 0.03900382, 0.08169506, 0.05402046, 0.10913805,\n",
       "       0.1167637 , 0.33718539, 0.04363156, 0.41763031, 0.12426178,\n",
       "       0.01052794, 0.27880269, 0.35278376, 0.1679216 , 0.31373876,\n",
       "       0.20520067, 0.04619043, 0.0147266 , 0.1567665 , 0.21212331,\n",
       "       0.08514657, 0.21027986, 0.21691324, 0.1216812 , 0.34286956,\n",
       "       0.36419068, 0.28261347, 0.29163702, 0.14326868, 0.24096479,\n",
       "       0.37664114, 0.24493889, 0.09912167, 0.42310953, 0.27757713,\n",
       "       0.09277529, 0.34234637, 0.18928323, 0.19099426, 0.14234468,\n",
       "       0.40158007, 0.34500687, 0.04407413, 0.27464406, 0.12096187,\n",
       "       0.23704995, 0.19075236, 0.33279389, 0.06815744, 0.07937313,\n",
       "       0.09627924, 0.19501916, 0.19797751, 0.10799669, 0.21340542,\n",
       "       0.25107209, 0.10778112, 0.31066328, 0.03307561, 0.05402939,\n",
       "       0.46513558, 0.121856  , 0.18169138, 0.20947429, 0.03713907,\n",
       "       0.16705481, 0.26347975, 0.09811877, 0.22762194, 0.05391979,\n",
       "       0.03408115, 0.23055492, 0.21702899, 0.27971856, 0.20021586,\n",
       "       0.11543572, 0.27554098, 0.38937958, 0.30758234, 0.07974391,\n",
       "       0.1902286 , 0.13347453, 0.17240067, 0.08008441, 0.20993484,\n",
       "       0.10828337, 0.14589819, 0.29880031])"
      ]
     },
     "execution_count": 10,
     "metadata": {},
     "output_type": "execute_result"
    }
   ],
   "source": [
    "user_similarity[0]"
   ]
  },
  {
   "cell_type": "code",
   "execution_count": 11,
   "id": "833d66cc",
   "metadata": {
    "pycharm": {
     "name": "#%%\n"
    }
   },
   "outputs": [
    {
     "data": {
      "text/plain": [
       "943"
      ]
     },
     "execution_count": 11,
     "metadata": {},
     "output_type": "execute_result"
    }
   ],
   "source": [
    "# user가 movie에 대한 선호도를 나타낸다\n",
    "# 사람은 943명이고 영호는 1600개이다\n",
    "# 한사람의 전체 영화에 대한 선호도는 1600개이며, 이에 대한 코사인 유사도는 943 * 943개이다\n",
    "\n",
    "len(user_similarity[0])"
   ]
  },
  {
   "cell_type": "code",
   "execution_count": 12,
   "id": "c7cab8f9",
   "metadata": {
    "pycharm": {
     "name": "#%%\n"
    }
   },
   "outputs": [],
   "source": [
    "user_similarity = pd.DataFrame(user_similarity, index=rating_matrix.index, columns=rating_matrix.index)"
   ]
  },
  {
   "cell_type": "code",
   "execution_count": 13,
   "id": "30f79de6",
   "metadata": {
    "pycharm": {
     "name": "#%%\n"
    }
   },
   "outputs": [
    {
     "data": {
      "text/html": [
       "<div>\n",
       "<style scoped>\n",
       "    .dataframe tbody tr th:only-of-type {\n",
       "        vertical-align: middle;\n",
       "    }\n",
       "\n",
       "    .dataframe tbody tr th {\n",
       "        vertical-align: top;\n",
       "    }\n",
       "\n",
       "    .dataframe thead th {\n",
       "        text-align: right;\n",
       "    }\n",
       "</style>\n",
       "<table border=\"1\" class=\"dataframe\">\n",
       "  <thead>\n",
       "    <tr style=\"text-align: right;\">\n",
       "      <th>user_id</th>\n",
       "      <th>1</th>\n",
       "      <th>2</th>\n",
       "      <th>3</th>\n",
       "      <th>4</th>\n",
       "      <th>5</th>\n",
       "      <th>6</th>\n",
       "      <th>7</th>\n",
       "      <th>8</th>\n",
       "      <th>9</th>\n",
       "      <th>10</th>\n",
       "      <th>...</th>\n",
       "      <th>934</th>\n",
       "      <th>935</th>\n",
       "      <th>936</th>\n",
       "      <th>937</th>\n",
       "      <th>938</th>\n",
       "      <th>939</th>\n",
       "      <th>940</th>\n",
       "      <th>941</th>\n",
       "      <th>942</th>\n",
       "      <th>943</th>\n",
       "    </tr>\n",
       "    <tr>\n",
       "      <th>user_id</th>\n",
       "      <th></th>\n",
       "      <th></th>\n",
       "      <th></th>\n",
       "      <th></th>\n",
       "      <th></th>\n",
       "      <th></th>\n",
       "      <th></th>\n",
       "      <th></th>\n",
       "      <th></th>\n",
       "      <th></th>\n",
       "      <th></th>\n",
       "      <th></th>\n",
       "      <th></th>\n",
       "      <th></th>\n",
       "      <th></th>\n",
       "      <th></th>\n",
       "      <th></th>\n",
       "      <th></th>\n",
       "      <th></th>\n",
       "      <th></th>\n",
       "      <th></th>\n",
       "    </tr>\n",
       "  </thead>\n",
       "  <tbody>\n",
       "    <tr>\n",
       "      <th>1</th>\n",
       "      <td>1.000000</td>\n",
       "      <td>0.086941</td>\n",
       "      <td>0.038020</td>\n",
       "      <td>0.056020</td>\n",
       "      <td>0.289566</td>\n",
       "      <td>0.299731</td>\n",
       "      <td>0.341059</td>\n",
       "      <td>0.247257</td>\n",
       "      <td>0.033403</td>\n",
       "      <td>0.289638</td>\n",
       "      <td>...</td>\n",
       "      <td>0.307582</td>\n",
       "      <td>0.079744</td>\n",
       "      <td>0.190229</td>\n",
       "      <td>0.133475</td>\n",
       "      <td>0.172401</td>\n",
       "      <td>0.080084</td>\n",
       "      <td>0.209935</td>\n",
       "      <td>0.108283</td>\n",
       "      <td>0.145898</td>\n",
       "      <td>0.298800</td>\n",
       "    </tr>\n",
       "    <tr>\n",
       "      <th>2</th>\n",
       "      <td>0.086941</td>\n",
       "      <td>1.000000</td>\n",
       "      <td>0.068991</td>\n",
       "      <td>0.040622</td>\n",
       "      <td>0.057877</td>\n",
       "      <td>0.149153</td>\n",
       "      <td>0.058782</td>\n",
       "      <td>0.040996</td>\n",
       "      <td>0.053444</td>\n",
       "      <td>0.102327</td>\n",
       "      <td>...</td>\n",
       "      <td>0.095085</td>\n",
       "      <td>0.166574</td>\n",
       "      <td>0.226264</td>\n",
       "      <td>0.298154</td>\n",
       "      <td>0.108224</td>\n",
       "      <td>0.120239</td>\n",
       "      <td>0.169928</td>\n",
       "      <td>0.035451</td>\n",
       "      <td>0.115083</td>\n",
       "      <td>0.049967</td>\n",
       "    </tr>\n",
       "    <tr>\n",
       "      <th>3</th>\n",
       "      <td>0.038020</td>\n",
       "      <td>0.068991</td>\n",
       "      <td>1.000000</td>\n",
       "      <td>0.237868</td>\n",
       "      <td>0.000000</td>\n",
       "      <td>0.064696</td>\n",
       "      <td>0.047719</td>\n",
       "      <td>0.059062</td>\n",
       "      <td>0.023181</td>\n",
       "      <td>0.034039</td>\n",
       "      <td>...</td>\n",
       "      <td>0.041243</td>\n",
       "      <td>0.000000</td>\n",
       "      <td>0.148440</td>\n",
       "      <td>0.092375</td>\n",
       "      <td>0.069623</td>\n",
       "      <td>0.033133</td>\n",
       "      <td>0.081548</td>\n",
       "      <td>0.103793</td>\n",
       "      <td>0.088354</td>\n",
       "      <td>0.019628</td>\n",
       "    </tr>\n",
       "    <tr>\n",
       "      <th>4</th>\n",
       "      <td>0.056020</td>\n",
       "      <td>0.040622</td>\n",
       "      <td>0.237868</td>\n",
       "      <td>1.000000</td>\n",
       "      <td>0.043675</td>\n",
       "      <td>0.057326</td>\n",
       "      <td>0.095942</td>\n",
       "      <td>0.123174</td>\n",
       "      <td>0.000000</td>\n",
       "      <td>0.043504</td>\n",
       "      <td>...</td>\n",
       "      <td>0.069209</td>\n",
       "      <td>0.000000</td>\n",
       "      <td>0.091013</td>\n",
       "      <td>0.237762</td>\n",
       "      <td>0.127453</td>\n",
       "      <td>0.039017</td>\n",
       "      <td>0.093075</td>\n",
       "      <td>0.061113</td>\n",
       "      <td>0.103164</td>\n",
       "      <td>0.036405</td>\n",
       "    </tr>\n",
       "    <tr>\n",
       "      <th>5</th>\n",
       "      <td>0.289566</td>\n",
       "      <td>0.057877</td>\n",
       "      <td>0.000000</td>\n",
       "      <td>0.043675</td>\n",
       "      <td>1.000000</td>\n",
       "      <td>0.149877</td>\n",
       "      <td>0.277910</td>\n",
       "      <td>0.131363</td>\n",
       "      <td>0.039628</td>\n",
       "      <td>0.140338</td>\n",
       "      <td>...</td>\n",
       "      <td>0.280057</td>\n",
       "      <td>0.072267</td>\n",
       "      <td>0.067807</td>\n",
       "      <td>0.036094</td>\n",
       "      <td>0.163198</td>\n",
       "      <td>0.080764</td>\n",
       "      <td>0.167105</td>\n",
       "      <td>0.072287</td>\n",
       "      <td>0.091306</td>\n",
       "      <td>0.299890</td>\n",
       "    </tr>\n",
       "  </tbody>\n",
       "</table>\n",
       "<p>5 rows × 943 columns</p>\n",
       "</div>"
      ],
      "text/plain": [
       "user_id       1         2         3         4         5         6         7    \\\n",
       "user_id                                                                         \n",
       "1        1.000000  0.086941  0.038020  0.056020  0.289566  0.299731  0.341059   \n",
       "2        0.086941  1.000000  0.068991  0.040622  0.057877  0.149153  0.058782   \n",
       "3        0.038020  0.068991  1.000000  0.237868  0.000000  0.064696  0.047719   \n",
       "4        0.056020  0.040622  0.237868  1.000000  0.043675  0.057326  0.095942   \n",
       "5        0.289566  0.057877  0.000000  0.043675  1.000000  0.149877  0.277910   \n",
       "\n",
       "user_id       8         9         10   ...       934       935       936  \\\n",
       "user_id                                ...                                 \n",
       "1        0.247257  0.033403  0.289638  ...  0.307582  0.079744  0.190229   \n",
       "2        0.040996  0.053444  0.102327  ...  0.095085  0.166574  0.226264   \n",
       "3        0.059062  0.023181  0.034039  ...  0.041243  0.000000  0.148440   \n",
       "4        0.123174  0.000000  0.043504  ...  0.069209  0.000000  0.091013   \n",
       "5        0.131363  0.039628  0.140338  ...  0.280057  0.072267  0.067807   \n",
       "\n",
       "user_id       937       938       939       940       941       942       943  \n",
       "user_id                                                                        \n",
       "1        0.133475  0.172401  0.080084  0.209935  0.108283  0.145898  0.298800  \n",
       "2        0.298154  0.108224  0.120239  0.169928  0.035451  0.115083  0.049967  \n",
       "3        0.092375  0.069623  0.033133  0.081548  0.103793  0.088354  0.019628  \n",
       "4        0.237762  0.127453  0.039017  0.093075  0.061113  0.103164  0.036405  \n",
       "5        0.036094  0.163198  0.080764  0.167105  0.072287  0.091306  0.299890  \n",
       "\n",
       "[5 rows x 943 columns]"
      ]
     },
     "execution_count": 13,
     "metadata": {},
     "output_type": "execute_result"
    }
   ],
   "source": [
    "user_similarity.head()"
   ]
  },
  {
   "cell_type": "code",
   "execution_count": 14,
   "id": "2a4829f3",
   "metadata": {
    "pycharm": {
     "name": "#%%\n"
    }
   },
   "outputs": [],
   "source": [
    "# 모든 user에 대하여 rating 평균과 영화의 평점편차 계산\n",
    "rating_mean = rating_matrix.mean(axis=1)"
   ]
  },
  {
   "cell_type": "code",
   "execution_count": 15,
   "id": "11e31ba6",
   "metadata": {
    "pycharm": {
     "name": "#%%\n"
    }
   },
   "outputs": [
    {
     "data": {
      "text/plain": [
       "user_id\n",
       "1    3.558824\n",
       "2    3.673913\n",
       "3    2.925000\n",
       "4    4.388889\n",
       "5    2.786260\n",
       "dtype: float64"
      ]
     },
     "execution_count": 15,
     "metadata": {},
     "output_type": "execute_result"
    }
   ],
   "source": [
    "rating_mean.head()"
   ]
  },
  {
   "cell_type": "code",
   "execution_count": 16,
   "id": "9405323e",
   "metadata": {
    "pycharm": {
     "name": "#%%\n"
    }
   },
   "outputs": [],
   "source": [
    "# rating_matrix를 전치하여 movie_id를 인덱스로 하여 rating_mean을 빼주고 다시 전치全治\n",
    "rating_bias = (rating_matrix.T - rating_mean).T"
   ]
  },
  {
   "cell_type": "code",
   "execution_count": 17,
   "id": "7643cc7e",
   "metadata": {
    "pycharm": {
     "name": "#%%\n"
    }
   },
   "outputs": [
    {
     "data": {
      "text/html": [
       "<div>\n",
       "<style scoped>\n",
       "    .dataframe tbody tr th:only-of-type {\n",
       "        vertical-align: middle;\n",
       "    }\n",
       "\n",
       "    .dataframe tbody tr th {\n",
       "        vertical-align: top;\n",
       "    }\n",
       "\n",
       "    .dataframe thead th {\n",
       "        text-align: right;\n",
       "    }\n",
       "</style>\n",
       "<table border=\"1\" class=\"dataframe\">\n",
       "  <thead>\n",
       "    <tr style=\"text-align: right;\">\n",
       "      <th>movie_id</th>\n",
       "      <th>1</th>\n",
       "      <th>2</th>\n",
       "      <th>3</th>\n",
       "      <th>4</th>\n",
       "      <th>5</th>\n",
       "      <th>6</th>\n",
       "      <th>7</th>\n",
       "      <th>8</th>\n",
       "      <th>9</th>\n",
       "      <th>10</th>\n",
       "      <th>...</th>\n",
       "      <th>1672</th>\n",
       "      <th>1673</th>\n",
       "      <th>1674</th>\n",
       "      <th>1675</th>\n",
       "      <th>1676</th>\n",
       "      <th>1678</th>\n",
       "      <th>1679</th>\n",
       "      <th>1680</th>\n",
       "      <th>1681</th>\n",
       "      <th>1682</th>\n",
       "    </tr>\n",
       "    <tr>\n",
       "      <th>user_id</th>\n",
       "      <th></th>\n",
       "      <th></th>\n",
       "      <th></th>\n",
       "      <th></th>\n",
       "      <th></th>\n",
       "      <th></th>\n",
       "      <th></th>\n",
       "      <th></th>\n",
       "      <th></th>\n",
       "      <th></th>\n",
       "      <th></th>\n",
       "      <th></th>\n",
       "      <th></th>\n",
       "      <th></th>\n",
       "      <th></th>\n",
       "      <th></th>\n",
       "      <th></th>\n",
       "      <th></th>\n",
       "      <th></th>\n",
       "      <th></th>\n",
       "      <th></th>\n",
       "    </tr>\n",
       "  </thead>\n",
       "  <tbody>\n",
       "    <tr>\n",
       "      <th>1</th>\n",
       "      <td>1.441176</td>\n",
       "      <td>-0.558824</td>\n",
       "      <td>0.441176</td>\n",
       "      <td>-0.558824</td>\n",
       "      <td>-0.558824</td>\n",
       "      <td>1.441176</td>\n",
       "      <td>0.441176</td>\n",
       "      <td>-2.558824</td>\n",
       "      <td>1.441176</td>\n",
       "      <td>-0.558824</td>\n",
       "      <td>...</td>\n",
       "      <td>NaN</td>\n",
       "      <td>NaN</td>\n",
       "      <td>NaN</td>\n",
       "      <td>NaN</td>\n",
       "      <td>NaN</td>\n",
       "      <td>NaN</td>\n",
       "      <td>NaN</td>\n",
       "      <td>NaN</td>\n",
       "      <td>NaN</td>\n",
       "      <td>NaN</td>\n",
       "    </tr>\n",
       "    <tr>\n",
       "      <th>2</th>\n",
       "      <td>0.326087</td>\n",
       "      <td>NaN</td>\n",
       "      <td>NaN</td>\n",
       "      <td>NaN</td>\n",
       "      <td>NaN</td>\n",
       "      <td>NaN</td>\n",
       "      <td>NaN</td>\n",
       "      <td>NaN</td>\n",
       "      <td>NaN</td>\n",
       "      <td>-1.673913</td>\n",
       "      <td>...</td>\n",
       "      <td>NaN</td>\n",
       "      <td>NaN</td>\n",
       "      <td>NaN</td>\n",
       "      <td>NaN</td>\n",
       "      <td>NaN</td>\n",
       "      <td>NaN</td>\n",
       "      <td>NaN</td>\n",
       "      <td>NaN</td>\n",
       "      <td>NaN</td>\n",
       "      <td>NaN</td>\n",
       "    </tr>\n",
       "    <tr>\n",
       "      <th>3</th>\n",
       "      <td>NaN</td>\n",
       "      <td>NaN</td>\n",
       "      <td>NaN</td>\n",
       "      <td>NaN</td>\n",
       "      <td>NaN</td>\n",
       "      <td>NaN</td>\n",
       "      <td>NaN</td>\n",
       "      <td>NaN</td>\n",
       "      <td>NaN</td>\n",
       "      <td>NaN</td>\n",
       "      <td>...</td>\n",
       "      <td>NaN</td>\n",
       "      <td>NaN</td>\n",
       "      <td>NaN</td>\n",
       "      <td>NaN</td>\n",
       "      <td>NaN</td>\n",
       "      <td>NaN</td>\n",
       "      <td>NaN</td>\n",
       "      <td>NaN</td>\n",
       "      <td>NaN</td>\n",
       "      <td>NaN</td>\n",
       "    </tr>\n",
       "    <tr>\n",
       "      <th>4</th>\n",
       "      <td>NaN</td>\n",
       "      <td>NaN</td>\n",
       "      <td>NaN</td>\n",
       "      <td>NaN</td>\n",
       "      <td>NaN</td>\n",
       "      <td>NaN</td>\n",
       "      <td>NaN</td>\n",
       "      <td>NaN</td>\n",
       "      <td>NaN</td>\n",
       "      <td>NaN</td>\n",
       "      <td>...</td>\n",
       "      <td>NaN</td>\n",
       "      <td>NaN</td>\n",
       "      <td>NaN</td>\n",
       "      <td>NaN</td>\n",
       "      <td>NaN</td>\n",
       "      <td>NaN</td>\n",
       "      <td>NaN</td>\n",
       "      <td>NaN</td>\n",
       "      <td>NaN</td>\n",
       "      <td>NaN</td>\n",
       "    </tr>\n",
       "    <tr>\n",
       "      <th>5</th>\n",
       "      <td>1.213740</td>\n",
       "      <td>0.213740</td>\n",
       "      <td>NaN</td>\n",
       "      <td>NaN</td>\n",
       "      <td>NaN</td>\n",
       "      <td>NaN</td>\n",
       "      <td>NaN</td>\n",
       "      <td>NaN</td>\n",
       "      <td>NaN</td>\n",
       "      <td>NaN</td>\n",
       "      <td>...</td>\n",
       "      <td>NaN</td>\n",
       "      <td>NaN</td>\n",
       "      <td>NaN</td>\n",
       "      <td>NaN</td>\n",
       "      <td>NaN</td>\n",
       "      <td>NaN</td>\n",
       "      <td>NaN</td>\n",
       "      <td>NaN</td>\n",
       "      <td>NaN</td>\n",
       "      <td>NaN</td>\n",
       "    </tr>\n",
       "  </tbody>\n",
       "</table>\n",
       "<p>5 rows × 1642 columns</p>\n",
       "</div>"
      ],
      "text/plain": [
       "movie_id      1         2         3         4         5         6     \\\n",
       "user_id                                                                \n",
       "1         1.441176 -0.558824  0.441176 -0.558824 -0.558824  1.441176   \n",
       "2         0.326087       NaN       NaN       NaN       NaN       NaN   \n",
       "3              NaN       NaN       NaN       NaN       NaN       NaN   \n",
       "4              NaN       NaN       NaN       NaN       NaN       NaN   \n",
       "5         1.213740  0.213740       NaN       NaN       NaN       NaN   \n",
       "\n",
       "movie_id      7         8         9         10    ...  1672  1673  1674  1675  \\\n",
       "user_id                                           ...                           \n",
       "1         0.441176 -2.558824  1.441176 -0.558824  ...   NaN   NaN   NaN   NaN   \n",
       "2              NaN       NaN       NaN -1.673913  ...   NaN   NaN   NaN   NaN   \n",
       "3              NaN       NaN       NaN       NaN  ...   NaN   NaN   NaN   NaN   \n",
       "4              NaN       NaN       NaN       NaN  ...   NaN   NaN   NaN   NaN   \n",
       "5              NaN       NaN       NaN       NaN  ...   NaN   NaN   NaN   NaN   \n",
       "\n",
       "movie_id  1676  1678  1679  1680  1681  1682  \n",
       "user_id                                       \n",
       "1          NaN   NaN   NaN   NaN   NaN   NaN  \n",
       "2          NaN   NaN   NaN   NaN   NaN   NaN  \n",
       "3          NaN   NaN   NaN   NaN   NaN   NaN  \n",
       "4          NaN   NaN   NaN   NaN   NaN   NaN  \n",
       "5          NaN   NaN   NaN   NaN   NaN   NaN  \n",
       "\n",
       "[5 rows x 1642 columns]"
      ]
     },
     "execution_count": 17,
     "metadata": {},
     "output_type": "execute_result"
    }
   ],
   "source": [
    "rating_bias.head()"
   ]
  },
  {
   "cell_type": "code",
   "execution_count": 18,
   "id": "deae04a9",
   "metadata": {
    "pycharm": {
     "name": "#%%\n"
    }
   },
   "outputs": [],
   "source": [
    "# 사용자별 공통 평가 수 계산\n",
    "rating_binary1 = np.array((rating_matrix > 0).astype(float)) # row: user, col: movie"
   ]
  },
  {
   "cell_type": "code",
   "execution_count": 19,
   "id": "4f1d136d",
   "metadata": {
    "pycharm": {
     "name": "#%%\n"
    }
   },
   "outputs": [
    {
     "data": {
      "text/plain": [
       "(943, 1642)"
      ]
     },
     "execution_count": 19,
     "metadata": {},
     "output_type": "execute_result"
    }
   ],
   "source": [
    "rating_binary1.shape"
   ]
  },
  {
   "cell_type": "code",
   "execution_count": 20,
   "id": "1f18a162",
   "metadata": {
    "pycharm": {
     "name": "#%%\n"
    }
   },
   "outputs": [
    {
     "name": "stdout",
     "output_type": "stream",
     "text": [
      "[[1. 1. 1. ... 0. 0. 0.]\n",
      " [1. 0. 0. ... 0. 0. 0.]\n",
      " [0. 0. 0. ... 0. 0. 0.]\n",
      " ...\n",
      " [0. 0. 0. ... 0. 0. 0.]\n",
      " [0. 0. 0. ... 0. 0. 0.]\n",
      " [0. 1. 0. ... 0. 0. 0.]]\n"
     ]
    }
   ],
   "source": [
    "print(rating_binary1)"
   ]
  },
  {
   "cell_type": "code",
   "execution_count": 21,
   "id": "9c45f382",
   "metadata": {
    "pycharm": {
     "name": "#%%\n"
    }
   },
   "outputs": [],
   "source": [
    "rating_binary2 = rating_binary1.T # row: movie, col: user"
   ]
  },
  {
   "cell_type": "code",
   "execution_count": 22,
   "id": "ac200a7b",
   "metadata": {
    "pycharm": {
     "name": "#%%\n"
    }
   },
   "outputs": [
    {
     "data": {
      "text/plain": [
       "(1642, 943)"
      ]
     },
     "execution_count": 22,
     "metadata": {},
     "output_type": "execute_result"
    }
   ],
   "source": [
    "rating_binary2.shape"
   ]
  },
  {
   "cell_type": "code",
   "execution_count": 23,
   "id": "da48c39b",
   "metadata": {
    "pycharm": {
     "name": "#%%\n"
    }
   },
   "outputs": [
    {
     "name": "stdout",
     "output_type": "stream",
     "text": [
      "[[1. 1. 0. ... 0. 0. 0.]\n",
      " [1. 0. 0. ... 0. 0. 1.]\n",
      " [1. 0. 0. ... 0. 0. 0.]\n",
      " ...\n",
      " [0. 0. 0. ... 0. 0. 0.]\n",
      " [0. 0. 0. ... 0. 0. 0.]\n",
      " [0. 0. 0. ... 0. 0. 0.]]\n"
     ]
    }
   ],
   "source": [
    "print(rating_binary2)"
   ]
  },
  {
   "cell_type": "code",
   "execution_count": 24,
   "id": "62ab2050",
   "metadata": {
    "pycharm": {
     "name": "#%%\n"
    }
   },
   "outputs": [],
   "source": [
    "counts = np.dot(rating_binary1, rating_binary2) # user x user"
   ]
  },
  {
   "cell_type": "code",
   "execution_count": 25,
   "id": "a5ff3a28",
   "metadata": {
    "pycharm": {
     "name": "#%%\n"
    }
   },
   "outputs": [
    {
     "data": {
      "text/plain": [
       "(943, 943)"
      ]
     },
     "execution_count": 25,
     "metadata": {},
     "output_type": "execute_result"
    }
   ],
   "source": [
    "counts.shape"
   ]
  },
  {
   "cell_type": "code",
   "execution_count": 26,
   "id": "e7349a9b",
   "metadata": {
    "pycharm": {
     "name": "#%%\n"
    }
   },
   "outputs": [
    {
     "name": "stdout",
     "output_type": "stream",
     "text": [
      "[[204.   7.   3. ...   6.  16.  48.]\n",
      " [  7.  46.   4. ...   2.   5.   3.]\n",
      " [  3.   4.  40. ...   3.   4.   1.]\n",
      " ...\n",
      " [  6.   2.   3. ...  17.   1.   4.]\n",
      " [ 16.   5.   4. ...   1.  59.   9.]\n",
      " [ 48.   3.   1. ...   4.   9. 126.]]\n"
     ]
    }
   ],
   "source": [
    "print(counts)"
   ]
  },
  {
   "cell_type": "code",
   "execution_count": 27,
   "id": "400ad4b2",
   "metadata": {
    "pycharm": {
     "name": "#%%\n"
    }
   },
   "outputs": [],
   "source": [
    "counts = pd.DataFrame(counts, index=rating_matrix.index, columns=rating_matrix.index)"
   ]
  },
  {
   "cell_type": "code",
   "execution_count": 28,
   "id": "a6e962e3",
   "metadata": {
    "pycharm": {
     "name": "#%%\n"
    }
   },
   "outputs": [],
   "source": [
    "SIG_LEVEL = 3\n",
    "MIN_RATINGS = 2"
   ]
  },
  {
   "cell_type": "code",
   "execution_count": 29,
   "id": "47681b84",
   "metadata": {
    "pycharm": {
     "name": "#%%\n"
    }
   },
   "outputs": [],
   "source": [
    "def CF_knn_bias_sig(user_id, movie_id, neighbor_size=0):\n",
    "    if movie_id in rating_bias:\n",
    "        sim_scores = user_similarity[user_id]\n",
    "        movie_ratings = rating_bias[movie_id]\n",
    "        no_rating = movie_ratings.isnull()\n",
    "        common_counts = counts[user_id]\n",
    "        low_significance = common_counts < SIG_LEVEL\n",
    "        none_rating_idx = movie_ratings[no_rating | low_significance].index\n",
    "        movie_ratings = movie_ratings.drop(none_rating_idx)\n",
    "        sim_scores = sim_scores.drop(none_rating_idx)\n",
    "        \n",
    "        # neighbor_size = 0\n",
    "        if neighbor_size == 0:\n",
    "            prediction = np.dot(sim_scores, movie_ratings) / sim_scores.sum()\n",
    "            prediction = prediction + rating_mean[user_id]\n",
    "        else: # neighbor_size > 0\n",
    "            if len(sim_scores) > MIN_RATINGS:\n",
    "                neighbor_size = min(neighbor_size, len(sim_scores))\n",
    "                sim_scores = np.array(sim_scores)\n",
    "                movie_ratings = np.array(movie_ratings)\n",
    "                user_idx = np.argsort(sim_scores)\n",
    "                sim_scores = sim_scores[user_idx][-neighbor_size:]\n",
    "                movie_ratings = movie_ratings[user_idx][-neighbor_size:]\n",
    "                prediction = np.dot(sim_scores, movie_ratings) / sim_scores.sum()\n",
    "                prediction = prediction + rating_mean[user_id]\n",
    "            else:\n",
    "                prediction = rating_mean[user_id]\n",
    "    else:\n",
    "        prediction = rating_mean[user_id]\n",
    "    return prediction"
   ]
  },
  {
   "cell_type": "code",
   "execution_count": 30,
   "id": "d2d52d5d",
   "metadata": {
    "pycharm": {
     "name": "#%%\n"
    }
   },
   "outputs": [
    {
     "data": {
      "text/plain": [
       "0.9441775905772224"
      ]
     },
     "execution_count": 30,
     "metadata": {},
     "output_type": "execute_result"
    }
   ],
   "source": [
    "score(CF_knn_bias_sig, 30)"
   ]
  },
  {
   "cell_type": "code",
   "execution_count": null,
   "id": "99c12d73",
   "metadata": {
    "pycharm": {
     "name": "#%%\n"
    }
   },
   "outputs": [],
   "source": [
    "'''\n",
    "이후로는 실행 안해봤음\n",
    "''"
   ]
  },
  {
   "cell_type": "code",
   "execution_count": null,
   "id": "0cdcd241",
   "metadata": {
    "pycharm": {
     "name": "#%%\n"
    }
   },
   "outputs": [],
   "source": []
  },
  {
   "cell_type": "code",
   "execution_count": 50,
   "id": "73c35e29",
   "metadata": {
    "pycharm": {
     "name": "#%%\n"
    }
   },
   "outputs": [],
   "source": [
    "# 최적의 neighbor size 구하기\n",
    "# trainset으로 full matrix와 similarity 구하기"
   ]
  },
  {
   "cell_type": "code",
   "execution_count": 31,
   "id": "b0c026ec",
   "metadata": {
    "pycharm": {
     "name": "#%%\n"
    }
   },
   "outputs": [],
   "source": [
    "rating_matrix = X_train.pivot_table(values='rating', index='user_id', columns='movie_id')\n",
    "matrix_dummy = rating_matrix.copy().fillna(0)\n",
    "user_similarity = cosine_similarity(matrix_dummy, matrix_dummy)\n",
    "user_similarity = pd.DataFrame(user_similarity, index=rating_matrix.index, columns=rating_matrix.index)"
   ]
  },
  {
   "cell_type": "code",
   "execution_count": 33,
   "id": "e1c680d4",
   "metadata": {
    "pycharm": {
     "name": "#%%\n"
    }
   },
   "outputs": [
    {
     "name": "stdout",
     "output_type": "stream",
     "text": [
      "Neighbor size = 10 : RMSE = 0.9580\n",
      "Neighbor size = 20 : RMSE = 0.9450\n",
      "Neighbor size = 30 : RMSE = 0.9442\n",
      "Neighbor size = 40 : RMSE = 0.9449\n",
      "Neighbor size = 50 : RMSE = 0.9454\n",
      "Neighbor size = 60 : RMSE = 0.9462\n"
     ]
    }
   ],
   "source": [
    "# 10단위로 먼저 찾는다\n",
    "for neighbor_size in [10, 20, 30, 40, 50, 60]:\n",
    "    print(\"Neighbor size = %d : RMSE = %.4f\" % (neighbor_size, score(CF_knn_bias_sig, neighbor_size)))"
   ]
  },
  {
   "cell_type": "code",
   "execution_count": 34,
   "id": "4233cba2",
   "metadata": {
    "pycharm": {
     "name": "#%%\n"
    }
   },
   "outputs": [
    {
     "name": "stdout",
     "output_type": "stream",
     "text": [
      "Neighbor size = 40 : RMSE = 0.9449\n",
      "Neighbor size = 41 : RMSE = 0.9450\n",
      "Neighbor size = 42 : RMSE = 0.9452\n",
      "Neighbor size = 43 : RMSE = 0.9452\n",
      "Neighbor size = 44 : RMSE = 0.9452\n",
      "Neighbor size = 45 : RMSE = 0.9453\n",
      "Neighbor size = 46 : RMSE = 0.9453\n",
      "Neighbor size = 47 : RMSE = 0.9452\n",
      "Neighbor size = 48 : RMSE = 0.9453\n",
      "Neighbor size = 49 : RMSE = 0.9455\n"
     ]
    }
   ],
   "source": [
    "# 1단위로 찾는다\n",
    "for neighbor_size in range(40, 50):\n",
    "    print(\"Neighbor size = %d : RMSE = %.4f\" % (neighbor_size, score(CF_knn_bias_sig, neighbor_size)))"
   ]
  },
  {
   "cell_type": "code",
   "execution_count": null,
   "id": "916319da",
   "metadata": {
    "pycharm": {
     "name": "#%%\n"
    }
   },
   "outputs": [],
   "source": [
    "# neighbor_size는 46으로 선택"
   ]
  },
  {
   "cell_type": "code",
   "execution_count": null,
   "id": "7b4b1a22",
   "metadata": {
    "pycharm": {
     "name": "#%%\n"
    }
   },
   "outputs": [],
   "source": []
  },
  {
   "cell_type": "code",
   "execution_count": null,
   "id": "7a9e5072",
   "metadata": {
    "pycharm": {
     "name": "#%%\n"
    }
   },
   "outputs": [],
   "source": []
  },
  {
   "cell_type": "code",
   "execution_count": 35,
   "id": "ae17630f",
   "metadata": {
    "pycharm": {
     "name": "#%%\n"
    }
   },
   "outputs": [
    {
     "data": {
      "text/html": [
       "<div>\n",
       "<style scoped>\n",
       "    .dataframe tbody tr th:only-of-type {\n",
       "        vertical-align: middle;\n",
       "    }\n",
       "\n",
       "    .dataframe tbody tr th {\n",
       "        vertical-align: top;\n",
       "    }\n",
       "\n",
       "    .dataframe thead th {\n",
       "        text-align: right;\n",
       "    }\n",
       "</style>\n",
       "<table border=\"1\" class=\"dataframe\">\n",
       "  <thead>\n",
       "    <tr style=\"text-align: right;\">\n",
       "      <th>movie_id</th>\n",
       "      <th>1</th>\n",
       "      <th>2</th>\n",
       "      <th>3</th>\n",
       "      <th>4</th>\n",
       "      <th>5</th>\n",
       "      <th>6</th>\n",
       "      <th>7</th>\n",
       "      <th>8</th>\n",
       "      <th>9</th>\n",
       "      <th>10</th>\n",
       "      <th>...</th>\n",
       "      <th>1673</th>\n",
       "      <th>1674</th>\n",
       "      <th>1675</th>\n",
       "      <th>1676</th>\n",
       "      <th>1677</th>\n",
       "      <th>1678</th>\n",
       "      <th>1679</th>\n",
       "      <th>1680</th>\n",
       "      <th>1681</th>\n",
       "      <th>1682</th>\n",
       "    </tr>\n",
       "    <tr>\n",
       "      <th>user_id</th>\n",
       "      <th></th>\n",
       "      <th></th>\n",
       "      <th></th>\n",
       "      <th></th>\n",
       "      <th></th>\n",
       "      <th></th>\n",
       "      <th></th>\n",
       "      <th></th>\n",
       "      <th></th>\n",
       "      <th></th>\n",
       "      <th></th>\n",
       "      <th></th>\n",
       "      <th></th>\n",
       "      <th></th>\n",
       "      <th></th>\n",
       "      <th></th>\n",
       "      <th></th>\n",
       "      <th></th>\n",
       "      <th></th>\n",
       "      <th></th>\n",
       "      <th></th>\n",
       "    </tr>\n",
       "  </thead>\n",
       "  <tbody>\n",
       "    <tr>\n",
       "      <th>1</th>\n",
       "      <td>5.0</td>\n",
       "      <td>3.0</td>\n",
       "      <td>4.0</td>\n",
       "      <td>3.0</td>\n",
       "      <td>3.0</td>\n",
       "      <td>5.0</td>\n",
       "      <td>4.0</td>\n",
       "      <td>1.0</td>\n",
       "      <td>5.0</td>\n",
       "      <td>3.0</td>\n",
       "      <td>...</td>\n",
       "      <td>NaN</td>\n",
       "      <td>NaN</td>\n",
       "      <td>NaN</td>\n",
       "      <td>NaN</td>\n",
       "      <td>NaN</td>\n",
       "      <td>NaN</td>\n",
       "      <td>NaN</td>\n",
       "      <td>NaN</td>\n",
       "      <td>NaN</td>\n",
       "      <td>NaN</td>\n",
       "    </tr>\n",
       "    <tr>\n",
       "      <th>2</th>\n",
       "      <td>4.0</td>\n",
       "      <td>NaN</td>\n",
       "      <td>NaN</td>\n",
       "      <td>NaN</td>\n",
       "      <td>NaN</td>\n",
       "      <td>NaN</td>\n",
       "      <td>NaN</td>\n",
       "      <td>NaN</td>\n",
       "      <td>NaN</td>\n",
       "      <td>2.0</td>\n",
       "      <td>...</td>\n",
       "      <td>NaN</td>\n",
       "      <td>NaN</td>\n",
       "      <td>NaN</td>\n",
       "      <td>NaN</td>\n",
       "      <td>NaN</td>\n",
       "      <td>NaN</td>\n",
       "      <td>NaN</td>\n",
       "      <td>NaN</td>\n",
       "      <td>NaN</td>\n",
       "      <td>NaN</td>\n",
       "    </tr>\n",
       "    <tr>\n",
       "      <th>3</th>\n",
       "      <td>NaN</td>\n",
       "      <td>NaN</td>\n",
       "      <td>NaN</td>\n",
       "      <td>NaN</td>\n",
       "      <td>NaN</td>\n",
       "      <td>NaN</td>\n",
       "      <td>NaN</td>\n",
       "      <td>NaN</td>\n",
       "      <td>NaN</td>\n",
       "      <td>NaN</td>\n",
       "      <td>...</td>\n",
       "      <td>NaN</td>\n",
       "      <td>NaN</td>\n",
       "      <td>NaN</td>\n",
       "      <td>NaN</td>\n",
       "      <td>NaN</td>\n",
       "      <td>NaN</td>\n",
       "      <td>NaN</td>\n",
       "      <td>NaN</td>\n",
       "      <td>NaN</td>\n",
       "      <td>NaN</td>\n",
       "    </tr>\n",
       "    <tr>\n",
       "      <th>4</th>\n",
       "      <td>NaN</td>\n",
       "      <td>NaN</td>\n",
       "      <td>NaN</td>\n",
       "      <td>NaN</td>\n",
       "      <td>NaN</td>\n",
       "      <td>NaN</td>\n",
       "      <td>NaN</td>\n",
       "      <td>NaN</td>\n",
       "      <td>NaN</td>\n",
       "      <td>NaN</td>\n",
       "      <td>...</td>\n",
       "      <td>NaN</td>\n",
       "      <td>NaN</td>\n",
       "      <td>NaN</td>\n",
       "      <td>NaN</td>\n",
       "      <td>NaN</td>\n",
       "      <td>NaN</td>\n",
       "      <td>NaN</td>\n",
       "      <td>NaN</td>\n",
       "      <td>NaN</td>\n",
       "      <td>NaN</td>\n",
       "    </tr>\n",
       "    <tr>\n",
       "      <th>5</th>\n",
       "      <td>4.0</td>\n",
       "      <td>3.0</td>\n",
       "      <td>NaN</td>\n",
       "      <td>NaN</td>\n",
       "      <td>NaN</td>\n",
       "      <td>NaN</td>\n",
       "      <td>NaN</td>\n",
       "      <td>NaN</td>\n",
       "      <td>NaN</td>\n",
       "      <td>NaN</td>\n",
       "      <td>...</td>\n",
       "      <td>NaN</td>\n",
       "      <td>NaN</td>\n",
       "      <td>NaN</td>\n",
       "      <td>NaN</td>\n",
       "      <td>NaN</td>\n",
       "      <td>NaN</td>\n",
       "      <td>NaN</td>\n",
       "      <td>NaN</td>\n",
       "      <td>NaN</td>\n",
       "      <td>NaN</td>\n",
       "    </tr>\n",
       "  </tbody>\n",
       "</table>\n",
       "<p>5 rows × 1682 columns</p>\n",
       "</div>"
      ],
      "text/plain": [
       "movie_id  1     2     3     4     5     6     7     8     9     10    ...  \\\n",
       "user_id                                                               ...   \n",
       "1          5.0   3.0   4.0   3.0   3.0   5.0   4.0   1.0   5.0   3.0  ...   \n",
       "2          4.0   NaN   NaN   NaN   NaN   NaN   NaN   NaN   NaN   2.0  ...   \n",
       "3          NaN   NaN   NaN   NaN   NaN   NaN   NaN   NaN   NaN   NaN  ...   \n",
       "4          NaN   NaN   NaN   NaN   NaN   NaN   NaN   NaN   NaN   NaN  ...   \n",
       "5          4.0   3.0   NaN   NaN   NaN   NaN   NaN   NaN   NaN   NaN  ...   \n",
       "\n",
       "movie_id  1673  1674  1675  1676  1677  1678  1679  1680  1681  1682  \n",
       "user_id                                                               \n",
       "1          NaN   NaN   NaN   NaN   NaN   NaN   NaN   NaN   NaN   NaN  \n",
       "2          NaN   NaN   NaN   NaN   NaN   NaN   NaN   NaN   NaN   NaN  \n",
       "3          NaN   NaN   NaN   NaN   NaN   NaN   NaN   NaN   NaN   NaN  \n",
       "4          NaN   NaN   NaN   NaN   NaN   NaN   NaN   NaN   NaN   NaN  \n",
       "5          NaN   NaN   NaN   NaN   NaN   NaN   NaN   NaN   NaN   NaN  \n",
       "\n",
       "[5 rows x 1682 columns]"
      ]
     },
     "execution_count": 35,
     "metadata": {},
     "output_type": "execute_result"
    }
   ],
   "source": [
    "# 주어진 사용자에 대하여 추천받기\n",
    "# 전체 데이터로 fulll matrix와 cosine similarity 구하기\n",
    "rating_matrix = ratings.pivot_table(values='rating', index='user_id', columns='movie_id')\n",
    "rating_matrix.head()"
   ]
  },
  {
   "cell_type": "code",
   "execution_count": 36,
   "id": "6c3c526b",
   "metadata": {
    "pycharm": {
     "name": "#%%\n"
    }
   },
   "outputs": [],
   "source": [
    "matrix_dummy = rating_matrix.copy().fillna(0)"
   ]
  },
  {
   "cell_type": "code",
   "execution_count": 37,
   "id": "8478a656",
   "metadata": {
    "pycharm": {
     "name": "#%%\n"
    }
   },
   "outputs": [
    {
     "data": {
      "text/plain": [
       "<AxesSubplot: xlabel='movie_id', ylabel='user_id'>"
      ]
     },
     "execution_count": 37,
     "metadata": {},
     "output_type": "execute_result"
    },
    {
     "data": {
      "image/png": "[encoded data removed]",
      "text/plain": [
       "<Figure size 640x480 with 1 Axes>"
      ]
     },
     "metadata": {},
     "output_type": "display_data"
    }
   ],
   "source": [
    "sns.heatmap(matrix_dummy.isnull(), yticklabels=False, cbar=False)"
   ]
  },
  {
   "cell_type": "code",
   "execution_count": 38,
   "id": "bb04d05a",
   "metadata": {
    "pycharm": {
     "name": "#%%\n"
    }
   },
   "outputs": [],
   "source": [
    "user_similarity = cosine_similarity(matrix_dummy, matrix_dummy)\n",
    "user_similarity = pd.DataFrame(user_similarity, index=rating_matrix.index, columns=rating_matrix.index)"
   ]
  },
  {
   "cell_type": "code",
   "execution_count": 39,
   "id": "5c813f92",
   "metadata": {
    "pycharm": {
     "name": "#%%\n"
    }
   },
   "outputs": [
    {
     "data": {
      "text/html": [
       "<div>\n",
       "<style scoped>\n",
       "    .dataframe tbody tr th:only-of-type {\n",
       "        vertical-align: middle;\n",
       "    }\n",
       "\n",
       "    .dataframe tbody tr th {\n",
       "        vertical-align: top;\n",
       "    }\n",
       "\n",
       "    .dataframe thead th {\n",
       "        text-align: right;\n",
       "    }\n",
       "</style>\n",
       "<table border=\"1\" class=\"dataframe\">\n",
       "  <thead>\n",
       "    <tr style=\"text-align: right;\">\n",
       "      <th>user_id</th>\n",
       "      <th>1</th>\n",
       "      <th>2</th>\n",
       "      <th>3</th>\n",
       "      <th>4</th>\n",
       "      <th>5</th>\n",
       "      <th>6</th>\n",
       "      <th>7</th>\n",
       "      <th>8</th>\n",
       "      <th>9</th>\n",
       "      <th>10</th>\n",
       "      <th>...</th>\n",
       "      <th>934</th>\n",
       "      <th>935</th>\n",
       "      <th>936</th>\n",
       "      <th>937</th>\n",
       "      <th>938</th>\n",
       "      <th>939</th>\n",
       "      <th>940</th>\n",
       "      <th>941</th>\n",
       "      <th>942</th>\n",
       "      <th>943</th>\n",
       "    </tr>\n",
       "    <tr>\n",
       "      <th>user_id</th>\n",
       "      <th></th>\n",
       "      <th></th>\n",
       "      <th></th>\n",
       "      <th></th>\n",
       "      <th></th>\n",
       "      <th></th>\n",
       "      <th></th>\n",
       "      <th></th>\n",
       "      <th></th>\n",
       "      <th></th>\n",
       "      <th></th>\n",
       "      <th></th>\n",
       "      <th></th>\n",
       "      <th></th>\n",
       "      <th></th>\n",
       "      <th></th>\n",
       "      <th></th>\n",
       "      <th></th>\n",
       "      <th></th>\n",
       "      <th></th>\n",
       "      <th></th>\n",
       "    </tr>\n",
       "  </thead>\n",
       "  <tbody>\n",
       "    <tr>\n",
       "      <th>1</th>\n",
       "      <td>1.000000</td>\n",
       "      <td>0.166931</td>\n",
       "      <td>0.047460</td>\n",
       "      <td>0.064358</td>\n",
       "      <td>0.378475</td>\n",
       "      <td>0.430239</td>\n",
       "      <td>0.440367</td>\n",
       "      <td>0.319072</td>\n",
       "      <td>0.078138</td>\n",
       "      <td>0.376544</td>\n",
       "      <td>...</td>\n",
       "      <td>0.369527</td>\n",
       "      <td>0.119482</td>\n",
       "      <td>0.274876</td>\n",
       "      <td>0.189705</td>\n",
       "      <td>0.197326</td>\n",
       "      <td>0.118095</td>\n",
       "      <td>0.314072</td>\n",
       "      <td>0.148617</td>\n",
       "      <td>0.179508</td>\n",
       "      <td>0.398175</td>\n",
       "    </tr>\n",
       "    <tr>\n",
       "      <th>2</th>\n",
       "      <td>0.166931</td>\n",
       "      <td>1.000000</td>\n",
       "      <td>0.110591</td>\n",
       "      <td>0.178121</td>\n",
       "      <td>0.072979</td>\n",
       "      <td>0.245843</td>\n",
       "      <td>0.107328</td>\n",
       "      <td>0.103344</td>\n",
       "      <td>0.161048</td>\n",
       "      <td>0.159862</td>\n",
       "      <td>...</td>\n",
       "      <td>0.156986</td>\n",
       "      <td>0.307942</td>\n",
       "      <td>0.358789</td>\n",
       "      <td>0.424046</td>\n",
       "      <td>0.319889</td>\n",
       "      <td>0.228583</td>\n",
       "      <td>0.226790</td>\n",
       "      <td>0.161485</td>\n",
       "      <td>0.172268</td>\n",
       "      <td>0.105798</td>\n",
       "    </tr>\n",
       "    <tr>\n",
       "      <th>3</th>\n",
       "      <td>0.047460</td>\n",
       "      <td>0.110591</td>\n",
       "      <td>1.000000</td>\n",
       "      <td>0.344151</td>\n",
       "      <td>0.021245</td>\n",
       "      <td>0.072415</td>\n",
       "      <td>0.066137</td>\n",
       "      <td>0.083060</td>\n",
       "      <td>0.061040</td>\n",
       "      <td>0.065151</td>\n",
       "      <td>...</td>\n",
       "      <td>0.031875</td>\n",
       "      <td>0.042753</td>\n",
       "      <td>0.163829</td>\n",
       "      <td>0.069038</td>\n",
       "      <td>0.124245</td>\n",
       "      <td>0.026271</td>\n",
       "      <td>0.161890</td>\n",
       "      <td>0.101243</td>\n",
       "      <td>0.133416</td>\n",
       "      <td>0.026556</td>\n",
       "    </tr>\n",
       "    <tr>\n",
       "      <th>4</th>\n",
       "      <td>0.064358</td>\n",
       "      <td>0.178121</td>\n",
       "      <td>0.344151</td>\n",
       "      <td>1.000000</td>\n",
       "      <td>0.031804</td>\n",
       "      <td>0.068044</td>\n",
       "      <td>0.091230</td>\n",
       "      <td>0.188060</td>\n",
       "      <td>0.101284</td>\n",
       "      <td>0.060859</td>\n",
       "      <td>...</td>\n",
       "      <td>0.052107</td>\n",
       "      <td>0.036784</td>\n",
       "      <td>0.133115</td>\n",
       "      <td>0.193471</td>\n",
       "      <td>0.146058</td>\n",
       "      <td>0.030138</td>\n",
       "      <td>0.196858</td>\n",
       "      <td>0.152041</td>\n",
       "      <td>0.170086</td>\n",
       "      <td>0.058752</td>\n",
       "    </tr>\n",
       "    <tr>\n",
       "      <th>5</th>\n",
       "      <td>0.378475</td>\n",
       "      <td>0.072979</td>\n",
       "      <td>0.021245</td>\n",
       "      <td>0.031804</td>\n",
       "      <td>1.000000</td>\n",
       "      <td>0.237286</td>\n",
       "      <td>0.373600</td>\n",
       "      <td>0.248930</td>\n",
       "      <td>0.056847</td>\n",
       "      <td>0.201427</td>\n",
       "      <td>...</td>\n",
       "      <td>0.338794</td>\n",
       "      <td>0.080580</td>\n",
       "      <td>0.094924</td>\n",
       "      <td>0.079779</td>\n",
       "      <td>0.148607</td>\n",
       "      <td>0.071459</td>\n",
       "      <td>0.239955</td>\n",
       "      <td>0.139595</td>\n",
       "      <td>0.152497</td>\n",
       "      <td>0.313941</td>\n",
       "    </tr>\n",
       "  </tbody>\n",
       "</table>\n",
       "<p>5 rows × 943 columns</p>\n",
       "</div>"
      ],
      "text/plain": [
       "user_id       1         2         3         4         5         6         7    \\\n",
       "user_id                                                                         \n",
       "1        1.000000  0.166931  0.047460  0.064358  0.378475  0.430239  0.440367   \n",
       "2        0.166931  1.000000  0.110591  0.178121  0.072979  0.245843  0.107328   \n",
       "3        0.047460  0.110591  1.000000  0.344151  0.021245  0.072415  0.066137   \n",
       "4        0.064358  0.178121  0.344151  1.000000  0.031804  0.068044  0.091230   \n",
       "5        0.378475  0.072979  0.021245  0.031804  1.000000  0.237286  0.373600   \n",
       "\n",
       "user_id       8         9         10   ...       934       935       936  \\\n",
       "user_id                                ...                                 \n",
       "1        0.319072  0.078138  0.376544  ...  0.369527  0.119482  0.274876   \n",
       "2        0.103344  0.161048  0.159862  ...  0.156986  0.307942  0.358789   \n",
       "3        0.083060  0.061040  0.065151  ...  0.031875  0.042753  0.163829   \n",
       "4        0.188060  0.101284  0.060859  ...  0.052107  0.036784  0.133115   \n",
       "5        0.248930  0.056847  0.201427  ...  0.338794  0.080580  0.094924   \n",
       "\n",
       "user_id       937       938       939       940       941       942       943  \n",
       "user_id                                                                        \n",
       "1        0.189705  0.197326  0.118095  0.314072  0.148617  0.179508  0.398175  \n",
       "2        0.424046  0.319889  0.228583  0.226790  0.161485  0.172268  0.105798  \n",
       "3        0.069038  0.124245  0.026271  0.161890  0.101243  0.133416  0.026556  \n",
       "4        0.193471  0.146058  0.030138  0.196858  0.152041  0.170086  0.058752  \n",
       "5        0.079779  0.148607  0.071459  0.239955  0.139595  0.152497  0.313941  \n",
       "\n",
       "[5 rows x 943 columns]"
      ]
     },
     "execution_count": 39,
     "metadata": {},
     "output_type": "execute_result"
    }
   ],
   "source": [
    "user_similarity.head()"
   ]
  },
  {
   "cell_type": "code",
   "execution_count": 42,
   "id": "5e12d149",
   "metadata": {
    "pycharm": {
     "name": "#%%\n"
    }
   },
   "outputs": [],
   "source": [
    "def recommender(user, n_items=10, neighbor_size=20):\n",
    "    predictions = []\n",
    "    rated_index = rating_matrix.loc[user][rating_matrix.loc[user] > 0].index # 현재 사용자가 이미 본 영화들의 인덱스\n",
    "    items = rating_matrix.loc[user].drop(rated_index)\n",
    "    for item in items.index:\n",
    "        predictions.append(CF_knn_bias_sig(user, item, neighbor_size))\n",
    "    # print(predictions)\n",
    "    recommendations = pd.Series(data=predictions, index=items.index, dtype=float)\n",
    "    recommendations = recommendations.sort_values(ascending=False).iloc[:n_items]\n",
    "    print(recommendations)\n",
    "    recommended_items = movies.loc[recommendations.index]['title']\n",
    "    return recommended_items"
   ]
  },
  {
   "cell_type": "code",
   "execution_count": 43,
   "id": "97de4066",
   "metadata": {
    "pycharm": {
     "name": "#%%\n"
    }
   },
   "outputs": [
    {
     "name": "stdout",
     "output_type": "stream",
     "text": [
      "movie_id\n",
      "1449    4.891030\n",
      "1189    4.740438\n",
      "483     4.622265\n",
      "114     4.620606\n",
      "187     4.570893\n",
      "dtype: float64\n"
     ]
    },
    {
     "data": {
      "text/plain": [
       "movie_id\n",
       "1449                             Golden Earrings (1947)\n",
       "1189                            That Old Feeling (1997)\n",
       "483                          Maltese Falcon, The (1941)\n",
       "114     Haunted World of Edward D. Wood Jr., The (1995)\n",
       "187                            Full Metal Jacket (1987)\n",
       "Name: title, dtype: object"
      ]
     },
     "execution_count": 43,
     "metadata": {},
     "output_type": "execute_result"
    }
   ],
   "source": [
    "recommender(user=2, n_items=5, neighbor_size=46)"
   ]
  },
  {
   "cell_type": "code",
   "execution_count": null,
   "id": "cdd7384e",
   "metadata": {
    "pycharm": {
     "name": "#%%\n"
    }
   },
   "outputs": [],
   "source": []
  }
 ],
 "metadata": {
  "kernelspec": {
   "display_name": "Python 3 (ipykernel)",
   "language": "python",
   "name": "python3"
  },
  "language_info": {
   "codemirror_mode": {
    "name": "ipython",
    "version": 3
   },
   "file_extension": ".py",
   "mimetype": "text/x-python",
   "name": "python",
   "nbconvert_exporter": "python",
   "pygments_lexer": "ipython3",
   "version": "3.10.6"
  }
 },
 "nbformat": 4,
 "nbformat_minor": 5
}
